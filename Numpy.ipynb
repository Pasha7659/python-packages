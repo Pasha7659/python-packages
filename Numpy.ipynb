{
 "cells": [
  {
   "cell_type": "markdown",
   "id": "5dc56d18-a023-465d-a6cc-082d75351061",
   "metadata": {},
   "source": [
    "  ## Numpy\n",
    "\n",
    "- NumPy is a Python library used for working with arrays.\n",
    "\n",
    "- It also has functions for working in domain of linear algebra, fourier transform, and matrices.- NumPy was created in 2005 by Travis Oliphant. It is  an open source project and you can use it freely.\n",
    "\n",
    "- NumPy stands for Numerical Python.\n",
    "\n",
    "- NumPy (Numerical Python) is an open source Python library that’s widely used in science and engineering.\n",
    "\n",
    "- The NumPy library contains multidimensional array data structures, such as the homogeneous, N-dimensional ndarray, and a large library of functions that operate efficiently on these data structures. ython.\n",
    "\n"
   ]
  },
  {
   "cell_type": "markdown",
   "id": "42ced4a9-432a-4510-8442-6c52ec62869e",
   "metadata": {},
   "source": [
    "## Installation of NumPy"
   ]
  },
  {
   "cell_type": "markdown",
   "id": "c6a20473-e731-4502-93d9-43d21cb989d4",
   "metadata": {},
   "source": [
    "- If you have Python and PIP already installed on a system, then installation of NumPy is very easy.\n",
    "- Install it using this command:"
   ]
  },
  {
   "cell_type": "code",
   "execution_count": 10,
   "id": "901d56cf-83d7-44f1-8a28-34b3fa81b8e4",
   "metadata": {},
   "outputs": [
    {
     "name": "stdout",
     "output_type": "stream",
     "text": [
      "Requirement already satisfied: numpy in c:\\users\\pasha\\anaconda3\\lib\\site-packages (1.26.4)\n"
     ]
    }
   ],
   "source": [
    "!pip install numpy"
   ]
  },
  {
   "cell_type": "markdown",
   "id": "5039f0eb-e488-4964-9589-4e294e5297f4",
   "metadata": {},
   "source": [
    "### How to import NumPy\n",
    "\n",
    "- Once NumPy is installed, import it in your applications by adding the import keyword:"
   ]
  },
  {
   "cell_type": "code",
   "execution_count": 15,
   "id": "e13fa126-8ec0-4a98-a513-5182d748432c",
   "metadata": {},
   "outputs": [],
   "source": [
    "import numpy as np"
   ]
  },
  {
   "cell_type": "code",
   "execution_count": 19,
   "id": "c03ced33-5405-4b30-8652-266a69e3649e",
   "metadata": {},
   "outputs": [
    {
     "name": "stdout",
     "output_type": "stream",
     "text": [
      "[1 2 3 4 5]\n"
     ]
    }
   ],
   "source": [
    "import numpy as np\n",
    "\n",
    "arr = np.array([1, 2, 3, 4, 5])\n",
    "\n",
    "print(arr)"
   ]
  },
  {
   "cell_type": "markdown",
   "id": "b25c8db1-3385-4825-b16c-8a88ed023ebe",
   "metadata": {},
   "source": [
    "## Why use NumPy?\n",
    "\n",
    "- Python lists are excellent, general-purpose containers. They can be “heterogeneous”, meaning that they can contain elements of a variety of types, and they are quite fast when used to perform individual operations on a handful of elements."
   ]
  },
  {
   "cell_type": "markdown",
   "id": "82cd925e-debb-4e07-a45f-36163b8ed8d1",
   "metadata": {},
   "source": [
    "## Dimensions in Arrays\n",
    "\n",
    "- A dimension in arrays is one level of array depth (nested arrays).\n",
    "- nested array: are arrays that have arrays as their elements."
   ]
  },
  {
   "cell_type": "code",
   "execution_count": 24,
   "id": "7d1fbffb-ae5e-4e02-8075-e41a0f5be770",
   "metadata": {},
   "outputs": [
    {
     "name": "stdout",
     "output_type": "stream",
     "text": [
      "42\n"
     ]
    }
   ],
   "source": [
    "# Creating numpy in (0D)\n",
    "\n",
    "import numpy as np\n",
    "\n",
    "arr = np.array(42)\n",
    "\n",
    "print(arr)"
   ]
  },
  {
   "cell_type": "code",
   "execution_count": 17,
   "id": "6b5431a9-19f8-499e-95d8-e26a740f3615",
   "metadata": {},
   "outputs": [
    {
     "name": "stdout",
     "output_type": "stream",
     "text": [
      "[1 2 3]\n"
     ]
    }
   ],
   "source": [
    "# Creating numpy (1D)\n",
    "a = np.array([1,2,3,])\n",
    "print(a)"
   ]
  },
  {
   "cell_type": "code",
   "execution_count": 108,
   "id": "74c3e3bd-eff0-425f-8e6c-57615371ea85",
   "metadata": {},
   "outputs": [
    {
     "name": "stdout",
     "output_type": "stream",
     "text": [
      "[[1 2 3]\n",
      " [4 5 6]]\n"
     ]
    }
   ],
   "source": [
    "# Creating numpy in (2D)\n",
    "\n",
    "a = np.array([[1,2,3],[4,5,6]])\n",
    "            \n",
    "print(a)"
   ]
  },
  {
   "cell_type": "code",
   "execution_count": 11,
   "id": "741c9785-f20b-445f-879f-8ce1e48a6d21",
   "metadata": {},
   "outputs": [
    {
     "name": "stdout",
     "output_type": "stream",
     "text": [
      "[[[1 2 3]\n",
      "  [4 5 6]\n",
      "  [7 8 9]]]\n"
     ]
    }
   ],
   "source": [
    "# Creating numpy in (3D)\n",
    "\n",
    "a = np.array([[[1,2,3,],[4,5,6],[7,8,9,]]])\n",
    "print(a)"
   ]
  },
  {
   "cell_type": "code",
   "execution_count": 13,
   "id": "9f3d1dac-cd46-44fa-ae6d-27ddd1578bb0",
   "metadata": {},
   "outputs": [
    {
     "name": "stdout",
     "output_type": "stream",
     "text": [
      "[[[[ 1  2  3]\n",
      "   [ 6  7  8]\n",
      "   [23 56 78]]]]\n"
     ]
    }
   ],
   "source": [
    "# Creating numpy in (4D)\n",
    "\n",
    "a = np.array([[[[1,2,3],[6,7,8],[23,56,78]]]])\n",
    "print(a)"
   ]
  },
  {
   "cell_type": "code",
   "execution_count": 17,
   "id": "10bbea61-37c2-46c6-bd12-02cc2cf9db26",
   "metadata": {},
   "outputs": [
    {
     "name": "stdout",
     "output_type": "stream",
     "text": [
      "[[[[[10 20 30]\n",
      "    [40 50 50]\n",
      "    [90 79 50]]]]]\n"
     ]
    }
   ],
   "source": [
    "# Creating numpy in (5D)\n",
    "\n",
    "a = np.array([[[[[10,20,30],[40,50,50],[90,79,50]]]]])\n",
    "print(a)"
   ]
  },
  {
   "cell_type": "markdown",
   "id": "e8a63074-8ffa-47ea-b7e1-a4f6df879c4f",
   "metadata": {},
   "source": [
    "### Initial place holders"
   ]
  },
  {
   "cell_type": "code",
   "execution_count": 22,
   "id": "bf8105e8-707a-4fba-b314-c95d23d290a0",
   "metadata": {},
   "outputs": [
    {
     "name": "stdout",
     "output_type": "stream",
     "text": [
      "[[[0. 0. 0. 0.]\n",
      "  [0. 0. 0. 0.]\n",
      "  [0. 0. 0. 0.]]\n",
      "\n",
      " [[0. 0. 0. 0.]\n",
      "  [0. 0. 0. 0.]\n",
      "  [0. 0. 0. 0.]]]\n"
     ]
    }
   ],
   "source": [
    "# Creating intial place holders with Zeros\n",
    "# (2,3,4) 2 is size,3 is rows,4 is coloums\n",
    "\n",
    "a = np.zeros([2,3,4])\n",
    "print(a)"
   ]
  },
  {
   "cell_type": "code",
   "execution_count": 40,
   "id": "0ff758d2-eed9-4769-9fd3-5d0daed8c195",
   "metadata": {},
   "outputs": [
    {
     "name": "stdout",
     "output_type": "stream",
     "text": [
      "[[[0. 0. 0. 0.]\n",
      "  [0. 0. 0. 0.]\n",
      "  [0. 0. 0. 0.]]\n",
      "\n",
      " [[0. 0. 0. 0.]\n",
      "  [0. 0. 0. 0.]\n",
      "  [0. 0. 0. 0.]]\n",
      "\n",
      " [[0. 0. 0. 0.]\n",
      "  [0. 0. 0. 0.]\n",
      "  [0. 0. 0. 0.]]\n",
      "\n",
      " [[0. 0. 0. 0.]\n",
      "  [0. 0. 0. 0.]\n",
      "  [0. 0. 0. 0.]]]\n"
     ]
    }
   ],
   "source": [
    "a = np.zeros([4,3,4])\n",
    "print(a)"
   ]
  },
  {
   "cell_type": "code",
   "execution_count": 42,
   "id": "e321ba43-058b-41e6-93f9-4728f2189583",
   "metadata": {},
   "outputs": [
    {
     "name": "stdout",
     "output_type": "stream",
     "text": [
      "[[[1. 1. 1. 1.]\n",
      "  [1. 1. 1. 1.]\n",
      "  [1. 1. 1. 1.]]\n",
      "\n",
      " [[1. 1. 1. 1.]\n",
      "  [1. 1. 1. 1.]\n",
      "  [1. 1. 1. 1.]]]\n"
     ]
    }
   ],
   "source": [
    "# Creating intial place holders with ones\n",
    "# (2,3,4) 2 is size,3 is rows,4 is coloums\n",
    "\n",
    "a = np.ones([2,3,4])\n",
    "print(a)"
   ]
  },
  {
   "cell_type": "code",
   "execution_count": 44,
   "id": "3466f286-f9a1-4939-bf62-d5ce8fb77993",
   "metadata": {},
   "outputs": [
    {
     "name": "stdout",
     "output_type": "stream",
     "text": [
      "[[[1. 1. 1. 1. 1.]\n",
      "  [1. 1. 1. 1. 1.]\n",
      "  [1. 1. 1. 1. 1.]\n",
      "  [1. 1. 1. 1. 1.]\n",
      "  [1. 1. 1. 1. 1.]]\n",
      "\n",
      " [[1. 1. 1. 1. 1.]\n",
      "  [1. 1. 1. 1. 1.]\n",
      "  [1. 1. 1. 1. 1.]\n",
      "  [1. 1. 1. 1. 1.]\n",
      "  [1. 1. 1. 1. 1.]]\n",
      "\n",
      " [[1. 1. 1. 1. 1.]\n",
      "  [1. 1. 1. 1. 1.]\n",
      "  [1. 1. 1. 1. 1.]\n",
      "  [1. 1. 1. 1. 1.]\n",
      "  [1. 1. 1. 1. 1.]]]\n"
     ]
    }
   ],
   "source": [
    "a = np.ones([3,5,5])\n",
    "print(a)"
   ]
  },
  {
   "cell_type": "code",
   "execution_count": 48,
   "id": "c78211a8-2900-43bb-b242-b905ade80664",
   "metadata": {},
   "outputs": [
    {
     "name": "stdout",
     "output_type": "stream",
     "text": [
      "[ 1  3  5  7  9 11 13 15 17 19]\n"
     ]
    }
   ],
   "source": [
    "# Creating an array of evenly space value (step value)\n",
    "# steps = n-1 (n=2)\n",
    "\n",
    "d = np.arange(1,20,2)\n",
    "print(d)"
   ]
  },
  {
   "cell_type": "code",
   "execution_count": 50,
   "id": "f401697a-28ee-4934-83dd-5cdd126b2895",
   "metadata": {},
   "outputs": [
    {
     "name": "stdout",
     "output_type": "stream",
     "text": [
      "[ 1  6 11 16]\n"
     ]
    }
   ],
   "source": [
    "# steps = n-1 (n=5)\n",
    "d = np.arange(1,20,5)\n",
    "print(d)"
   ]
  },
  {
   "cell_type": "code",
   "execution_count": 54,
   "id": "e1365b80-5e18-48cc-9cea-2a078a4ec2d7",
   "metadata": {},
   "outputs": [
    {
     "name": "stdout",
     "output_type": "stream",
     "text": [
      "[ 1.    5.75 10.5  15.25 20.  ]\n"
     ]
    }
   ],
   "source": [
    "# Creating array line space ( num of spaces)\n",
    "# 5 is no of samples\n",
    "\n",
    "a = np.linspace(1,20,5)\n",
    "print(a)"
   ]
  },
  {
   "cell_type": "code",
   "execution_count": 56,
   "id": "07afdb89-fde2-4ade-b206-8727648d6cd6",
   "metadata": {},
   "outputs": [
    {
     "name": "stdout",
     "output_type": "stream",
     "text": [
      "[ 1.          6.44444444 11.88888889 17.33333333 22.77777778 28.22222222\n",
      " 33.66666667 39.11111111 44.55555556 50.        ]\n"
     ]
    }
   ],
   "source": [
    "# 10 is no of samples\n",
    "\n",
    "b = np.linspace(1,50,10)\n",
    "print(b)"
   ]
  },
  {
   "cell_type": "code",
   "execution_count": 121,
   "id": "c0985857-050e-4f4d-9de8-8b899fb17533",
   "metadata": {},
   "outputs": [
    {
     "name": "stdout",
     "output_type": "stream",
     "text": [
      "[[[1 2 3]\n",
      "  [4 5 6]]\n",
      "\n",
      " [[8 6 5]\n",
      "  [6 8 9]]\n",
      "\n",
      " [[5 7 6]\n",
      "  [9 4 5]]]\n"
     ]
    }
   ],
   "source": [
    "# Examples\n",
    "\n",
    "i = np.array([[[1,2,3],[4,5,6]],\n",
    "              [[8,6,5],[6,8,9]],\n",
    "               [[5,7,6],[9,4,5]]])\n",
    "print(i)"
   ]
  },
  {
   "cell_type": "code",
   "execution_count": 129,
   "id": "770cdd52-a638-4e3b-ae5e-9bfbcdbd55ae",
   "metadata": {},
   "outputs": [
    {
     "name": "stdout",
     "output_type": "stream",
     "text": [
      "[[2 3 4]\n",
      " [8 9 7]\n",
      " [5 6 8]\n",
      " [3 5 4]]\n"
     ]
    }
   ],
   "source": [
    "j= np.array([[2,3,4],[8,9,7],\n",
    "             [5,6,8],[3,5,4]])\n",
    "print(j)"
   ]
  },
  {
   "cell_type": "code",
   "execution_count": 7,
   "id": "3ba7d1e2-f57e-44ea-acc7-396d51c5862e",
   "metadata": {},
   "outputs": [],
   "source": [
    "import numpy as np"
   ]
  },
  {
   "cell_type": "code",
   "execution_count": 75,
   "id": "2753cc3c-5e5f-48bd-9a21-166bd5a0e0fc",
   "metadata": {},
   "outputs": [
    {
     "name": "stdout",
     "output_type": "stream",
     "text": [
      "Requirement already satisfied: numpy in c:\\users\\pasha\\anaconda3\\lib\\site-packages (1.26.4)\n"
     ]
    }
   ],
   "source": [
    "! pip install numpy"
   ]
  },
  {
   "cell_type": "code",
   "execution_count": 13,
   "id": "034cab40-3f83-466a-bfaa-f84af4a47022",
   "metadata": {},
   "outputs": [
    {
     "name": "stdout",
     "output_type": "stream",
     "text": [
      "[10 10 10 10 10]\n",
      "1\n"
     ]
    }
   ],
   "source": [
    "# Creating Constant array\n",
    "# 1D\n",
    "a = np.full((5),10) # coloums\n",
    "print(a)\n",
    "print(a.ndim)"
   ]
  },
  {
   "cell_type": "code",
   "execution_count": 35,
   "id": "52512377-4cf0-4d67-a4a8-fb7d71a5bfeb",
   "metadata": {},
   "outputs": [
    {
     "name": "stdout",
     "output_type": "stream",
     "text": [
      "[[10 10 10 10 10]\n",
      " [10 10 10 10 10]\n",
      " [10 10 10 10 10]\n",
      " [10 10 10 10 10]]\n",
      "2 no of dimensions\n"
     ]
    }
   ],
   "source": [
    "# 2D\n",
    "a = np.full((4,5),10)\n",
    "print(a)\n",
    "print(a.ndim ,\"no of dimensions\")"
   ]
  },
  {
   "cell_type": "code",
   "execution_count": 37,
   "id": "39401658-4ad9-4b83-a353-371cefe6d7a4",
   "metadata": {},
   "outputs": [
    {
     "name": "stdout",
     "output_type": "stream",
     "text": [
      "[[[10 10 10 10 10]\n",
      "  [10 10 10 10 10]\n",
      "  [10 10 10 10 10]\n",
      "  [10 10 10 10 10]]\n",
      "\n",
      " [[10 10 10 10 10]\n",
      "  [10 10 10 10 10]\n",
      "  [10 10 10 10 10]\n",
      "  [10 10 10 10 10]]\n",
      "\n",
      " [[10 10 10 10 10]\n",
      "  [10 10 10 10 10]\n",
      "  [10 10 10 10 10]\n",
      "  [10 10 10 10 10]]]\n",
      "3\n"
     ]
    }
   ],
   "source": [
    "# 3D\n",
    "a = np.full((3,4,5),10)\n",
    "print(a)\n",
    "print(a.ndim)"
   ]
  },
  {
   "cell_type": "markdown",
   "id": "d5742b6d-c668-431d-a7ef-6b697535b5c6",
   "metadata": {},
   "source": [
    "### Identity matrix"
   ]
  },
  {
   "cell_type": "code",
   "execution_count": 39,
   "id": "33cfc254-0795-4ba3-a970-e80b5953c2bd",
   "metadata": {},
   "outputs": [
    {
     "name": "stdout",
     "output_type": "stream",
     "text": [
      "[[1. 0. 0. 0. 0.]\n",
      " [0. 1. 0. 0. 0.]\n",
      " [0. 0. 1. 0. 0.]\n",
      " [0. 0. 0. 1. 0.]\n",
      " [0. 0. 0. 0. 1.]]\n"
     ]
    }
   ],
   "source": [
    "# Creating Identity matrix\n",
    "a = np.eye(5)\n",
    "print(a)"
   ]
  },
  {
   "cell_type": "code",
   "execution_count": 41,
   "id": "53a5c40c-6785-43fe-a7c4-927a9522c1dd",
   "metadata": {},
   "outputs": [
    {
     "data": {
      "text/plain": [
       "array([[0.51385499, 0.94787843, 0.33970443, 0.38274386, 0.69202709],\n",
       "       [0.22031279, 0.03588144, 0.7164139 , 0.27368883, 0.01024715]])"
      ]
     },
     "execution_count": 41,
     "metadata": {},
     "output_type": "execute_result"
    }
   ],
   "source": [
    "# Creating an array with random values\n",
    "np.random.random((2,5))"
   ]
  },
  {
   "cell_type": "code",
   "execution_count": 92,
   "id": "2b10bd63-4df8-471d-a13a-b3bc1da6b585",
   "metadata": {},
   "outputs": [
    {
     "data": {
      "text/plain": [
       "26"
      ]
     },
     "execution_count": 92,
     "metadata": {},
     "output_type": "execute_result"
    }
   ],
   "source": [
    "# Creating an array with random integer values\n",
    "np.random.randint(1,50)\n"
   ]
  },
  {
   "cell_type": "markdown",
   "id": "1531a152-02fb-4130-a3c6-e3db3c923f21",
   "metadata": {},
   "source": [
    "## Array attributes\n",
    "\n",
    "- This section covers the ndim, shape, size,length (len) and dtype attributes of an array."
   ]
  },
  {
   "cell_type": "code",
   "execution_count": 31,
   "id": "1dc40a5a-cc15-4aa6-8549-f6226799c8da",
   "metadata": {},
   "outputs": [
    {
     "name": "stdout",
     "output_type": "stream",
     "text": [
      "2\n"
     ]
    }
   ],
   "source": [
    "# to fiond no of dimensions\n",
    "a=np.array([[1,3,5],\n",
    "            [5,6,7],\n",
    "            [8,9,6]])\n",
    "print(a.ndim)"
   ]
  },
  {
   "cell_type": "code",
   "execution_count": 33,
   "id": "ffdde076-5c0c-425d-8f6c-744a87701971",
   "metadata": {},
   "outputs": [
    {
     "name": "stdout",
     "output_type": "stream",
     "text": [
      "(3, 3)\n"
     ]
    }
   ],
   "source": [
    "# To find Size of an array (no of elements in matrix)\n",
    "a=np.array([[1,3,5],\n",
    "            [5,6,7],\n",
    "            [8,9,6]])\n",
    "print(a.shape)"
   ]
  },
  {
   "cell_type": "code",
   "execution_count": 35,
   "id": "498bfa5e-a07a-435c-91f2-e8ad0ce85485",
   "metadata": {},
   "outputs": [
    {
     "name": "stdout",
     "output_type": "stream",
     "text": [
      "9\n"
     ]
    }
   ],
   "source": [
    "# To find shape of array(no of rows and coloums)\n",
    "a= np.array([[9,0,4],\n",
    "              [4,6,3],\n",
    "              [1,2,1]])\n",
    "print(a.size)"
   ]
  },
  {
   "cell_type": "code",
   "execution_count": 120,
   "id": "866cd190-d462-4bc8-8c34-a2bd87554572",
   "metadata": {},
   "outputs": [
    {
     "name": "stdout",
     "output_type": "stream",
     "text": [
      "3\n"
     ]
    }
   ],
   "source": [
    "# To find length of matrix (no of rows)\n",
    "a=np.array([[3,5,6],\n",
    "            [5,9,8],\n",
    "            [8,9,7]])\n",
    "print(len(a))"
   ]
  },
  {
   "cell_type": "code",
   "execution_count": 37,
   "id": "7f22c29a-2583-4bad-9f54-4a080ddb75fc",
   "metadata": {},
   "outputs": [
    {
     "data": {
      "text/plain": [
       "dtype('int32')"
      ]
     },
     "execution_count": 37,
     "metadata": {},
     "output_type": "execute_result"
    }
   ],
   "source": [
    "# to know to data type\n",
    "a.dtype"
   ]
  },
  {
   "cell_type": "markdown",
   "id": "ae797416-78c3-47bc-8302-62c783e9201d",
   "metadata": {},
   "source": [
    "## NumPy Array Indexing\n",
    "\n",
    "- Array indexing is the same as accessing an array element.\n",
    "\n",
    "- You can access an array element by referring to its index number.\n",
    "\n",
    "- The indexes in NumPy arrays start with 0, meaning that the first element has index 0, and the second has index 1 etc."
   ]
  },
  {
   "cell_type": "code",
   "execution_count": 122,
   "id": "8d84b2dc-b6c1-4dca-926f-76bd9e0ef366",
   "metadata": {},
   "outputs": [
    {
     "name": "stdout",
     "output_type": "stream",
     "text": [
      "6\n"
     ]
    }
   ],
   "source": [
    "# Access of array elements\n",
    "# 1D\n",
    "a = np.array([2,3,4,5,6,7,89])\n",
    "print(a[4])"
   ]
  },
  {
   "cell_type": "markdown",
   "id": "3e0ab5e2-b38d-4dd7-9bd8-29e7467c9568",
   "metadata": {},
   "source": [
    "### Access 2-D Arrays\n",
    "\n",
    "- To access elements from 2-D arrays we can use comma separated integers representing the dimension and the index of the element.\n",
    "\n",
    "- Think of 2-D arrays like a table with rows and columns, where the dimension represents the row and the index represents the column."
   ]
  },
  {
   "cell_type": "code",
   "execution_count": 130,
   "id": "fc62aa88-490f-4c75-b326-a96f605493cb",
   "metadata": {},
   "outputs": [
    {
     "name": "stdout",
     "output_type": "stream",
     "text": [
      "3\n",
      "5\n"
     ]
    }
   ],
   "source": [
    "# 2D\n",
    "a = np.array([[3,4,5],  #0\n",
    "              [5,7,8],  #1\n",
    "              [8,9,3]]) #2\n",
    "print(a[2,2])\n",
    "print(a[1,0])"
   ]
  },
  {
   "cell_type": "markdown",
   "id": "122893e4-6cb8-4023-b583-a60f8a941938",
   "metadata": {},
   "source": [
    "### Access 3-D Arrays\n",
    "\n",
    "- To access elements from 3-D arrays we can use comma separated integers representing the dimensions and the index of the element."
   ]
  },
  {
   "cell_type": "code",
   "execution_count": 144,
   "id": "7f4208e2-0c95-4dde-a001-f41e95441951",
   "metadata": {},
   "outputs": [
    {
     "name": "stdout",
     "output_type": "stream",
     "text": [
      "4\n"
     ]
    }
   ],
   "source": [
    "# 3D\n",
    "a = np.array([[[2,4,5],[3,5,6]],\n",
    "               [[8,9,67],[4,6,8]],\n",
    "              [[3,2,1],[3,4,6]]])\n",
    "print(a[2,1,1])\n",
    "               "
   ]
  },
  {
   "cell_type": "code",
   "execution_count": 146,
   "id": "ad740dcd-c01f-45d0-9158-2760ead93876",
   "metadata": {},
   "outputs": [
    {
     "name": "stdout",
     "output_type": "stream",
     "text": [
      "3\n"
     ]
    }
   ],
   "source": [
    "a = np.array([[[2,4,5],[3,5,6]],\n",
    "               [[8,9,67],[4,6,8]],\n",
    "              [[3,2,1],[3,4,6]]])\n",
    "print(a[2,1,0])\n",
    "               "
   ]
  },
  {
   "cell_type": "code",
   "execution_count": 3,
   "id": "3762c3c5-fbf6-469e-81ab-b01aa4f3b304",
   "metadata": {},
   "outputs": [],
   "source": [
    "import numpy as np"
   ]
  },
  {
   "cell_type": "code",
   "execution_count": 56,
   "id": "6503b4a0-0b76-4653-8ea1-6055afdd0c8c",
   "metadata": {},
   "outputs": [
    {
     "name": "stdout",
     "output_type": "stream",
     "text": [
      "[3 5 6]\n"
     ]
    },
    {
     "data": {
      "text/plain": [
       "4"
      ]
     },
     "execution_count": 56,
     "metadata": {},
     "output_type": "execute_result"
    }
   ],
   "source": [
    "a= np.array([[[[1,3,4],[3,7,8]]],\n",
    "             [[[2,3,4],[3,5,6]]],\n",
    "             [[[2,3,4],[3,5,6]]]])\n",
    "print(a[1,0,1])\n",
    "a.ndim\n",
    "             "
   ]
  },
  {
   "cell_type": "markdown",
   "id": "a5a2baa1-9474-48a6-a7c1-d7cb898a9c85",
   "metadata": {},
   "source": [
    "## Data Types in NumPy\n",
    "\n",
    "- NumPy has some extra data types, and refer to data types with one character, like i for integers, u for unsigned integers etc.\n",
    "\n",
    "Below is a list of all data types in NumPy and the characters used to represent them.\n",
    "\n",
    "- i - integer\n",
    "\n",
    "- b - boolean\n",
    "\n",
    "- u - unsigned integer\n",
    "\n",
    "- f - float\n",
    "\n",
    "- c - complex float\n",
    "\n",
    "- m - timedelta\n",
    "\n",
    "- M - datetime\n",
    "\n",
    "- O - object\n",
    "\n",
    "- S - string\n",
    "\n",
    "- U - unicode string\n",
    "\n",
    "- V - fixed chunk of memory for other type ( void )"
   ]
  },
  {
   "cell_type": "code",
   "execution_count": 62,
   "id": "514ff984-a732-4a2f-b8be-1fef909fb8d5",
   "metadata": {},
   "outputs": [
    {
     "name": "stdout",
     "output_type": "stream",
     "text": [
      "[b'1' b'2' b'3' b'4']\n",
      "|S1\n"
     ]
    }
   ],
   "source": [
    "# String\r\n",
    "import numpy as np\r\n",
    "\r\n",
    "arr = np.array([1, 2, 3, 4], dtype='S')\r\n",
    "\r\n",
    "print(arr)\r\n",
    "print(arr.dtype)"
   ]
  },
  {
   "cell_type": "code",
   "execution_count": 70,
   "id": "99a8e25c-c312-4599-b72c-619f78075347",
   "metadata": {},
   "outputs": [
    {
     "name": "stdout",
     "output_type": "stream",
     "text": [
      "[1 2 3 4]\n",
      "int32\n"
     ]
    }
   ],
   "source": [
    "# Integer\n",
    "import numpy as np\n",
    "\n",
    "arr = np.array([1, 2, 3, 4], dtype='i')\n",
    "\n",
    "print(arr)\n",
    "print(arr.dtype)"
   ]
  },
  {
   "cell_type": "markdown",
   "id": "c1ff2894-414d-40d9-8aca-751e6e774d09",
   "metadata": {},
   "source": [
    "## Converting Data Type on Existing Arrays\n",
    "\n",
    "- The best way to change the data type of an existing array, is to make a copy of the array with the astype() method.\n",
    "\n",
    "- The astype() function creates a copy of the array, and allows you to specify the data type as a parameter.\n",
    "\n",
    "- The data type can be specified using a string, like 'f' for float, 'i' for integer etc. or you can use the data type directly like float for float and int for integer."
   ]
  },
  {
   "cell_type": "code",
   "execution_count": 81,
   "id": "c20a5df2-5522-4055-93c4-4b9154735a0e",
   "metadata": {},
   "outputs": [
    {
     "name": "stdout",
     "output_type": "stream",
     "text": [
      "[1 2 3]\n",
      "int32\n"
     ]
    }
   ],
   "source": [
    "#Change data type from float to integer by using 'i' as parameter value:\n",
    "a = np.array([1.1, 2.1, 3.1])\n",
    "\n",
    "b= a.astype('i')\n",
    "\n",
    "print(b)\n",
    "print(b.dtype)"
   ]
  },
  {
   "cell_type": "code",
   "execution_count": 83,
   "id": "c9ddc2d7-5bda-4bfb-b70b-ecdff9d1bf04",
   "metadata": {},
   "outputs": [
    {
     "name": "stdout",
     "output_type": "stream",
     "text": [
      "[ True False  True  True]\n",
      "bool\n"
     ]
    }
   ],
   "source": [
    "#Change data type from integer to boolean:\n",
    "a= np.array([-1, 0,4,5])\n",
    "\n",
    "b = a.astype(bool)\n",
    "\n",
    "print(b)\n",
    "print(b.dtype)"
   ]
  },
  {
   "cell_type": "code",
   "execution_count": 85,
   "id": "149aef5d-a57f-4155-9c74-f068c810229a",
   "metadata": {},
   "outputs": [
    {
     "name": "stdout",
     "output_type": "stream",
     "text": [
      "[-1.  0.  4.  5.]\n",
      "float32\n"
     ]
    }
   ],
   "source": [
    "#Change data type from integer to float:\n",
    "a= np.array([-1, 0,4,5])\n",
    "\n",
    "b = a.astype('f')\n",
    "\n",
    "print(b)\n",
    "print(b.dtype)"
   ]
  },
  {
   "cell_type": "markdown",
   "id": "a40cba76-f25a-4531-a296-fcea759683ec",
   "metadata": {},
   "source": [
    "## NumPy Array Copy vs View\n",
    "\n",
    "- The main difference between a copy and a view of an array is that the copy is a new array, and the view is just a view of the original array.\n",
    "\n",
    "- The copy owns the data and any changes made to the copy will not affect original array, and any changes made to the original array will not affect the copy.\n",
    "\n",
    "- The view does not own the data and any changes made to the view will affect the original array, and any changes made to the original array will affect the view.\n",
    "\n",
    "- The copy should not be affected by the changes made to the original array."
   ]
  },
  {
   "cell_type": "code",
   "execution_count": 88,
   "id": "04d7e0ca-ecc7-487c-8ee2-dd74e8ed162d",
   "metadata": {},
   "outputs": [
    {
     "name": "stdout",
     "output_type": "stream",
     "text": [
      "[54  2  3  4  5]\n",
      "[1 2 3 4 5]\n"
     ]
    }
   ],
   "source": [
    "import numpy as np\n",
    "#The copy should not be affected by the changes made to the original array.\n",
    "\n",
    "arr = np.array([1, 2, 3, 4, 5])\n",
    "x = arr.copy()\n",
    "arr[0] = 54\n",
    "\n",
    "print(arr)\n",
    "print(x)"
   ]
  },
  {
   "cell_type": "markdown",
   "id": "a3cd623c-de86-4f98-b4eb-5df1753622fa",
   "metadata": {},
   "source": [
    "### View"
   ]
  },
  {
   "cell_type": "code",
   "execution_count": 93,
   "id": "59f2c118-01cc-4904-b2e7-d982ebd07fa6",
   "metadata": {},
   "outputs": [
    {
     "name": "stdout",
     "output_type": "stream",
     "text": [
      "[20  2  3  4  5]\n",
      "[20  2  3  4  5]\n"
     ]
    }
   ],
   "source": [
    "import numpy as np\n",
    "##The view should  be affected by the changes made to the original array.\n",
    "\n",
    "arr = np.array([1, 2, 3, 4, 5])\n",
    "x = arr.view()\n",
    "arr[0] = 20\n",
    "\n",
    "print(arr)\n",
    "print(x)"
   ]
  },
  {
   "cell_type": "code",
   "execution_count": 97,
   "id": "cfb89e27-a25c-49ba-8c07-4eaf1e73b322",
   "metadata": {},
   "outputs": [
    {
     "name": "stdout",
     "output_type": "stream",
     "text": [
      "(3, 3)\n"
     ]
    }
   ],
   "source": [
    "# shape\n",
    "a = np.array([[3,4,5],  \n",
    "              [5,7,8],  \n",
    "              [8,9,3]]) \n",
    "print(a.shape)\n"
   ]
  },
  {
   "cell_type": "markdown",
   "id": "2696eec1-66b4-4061-a4c5-341bd31d9931",
   "metadata": {},
   "source": [
    "### Reshaping array"
   ]
  },
  {
   "cell_type": "markdown",
   "id": "eb8734ba-98cc-41b4-a7fa-35c981f3f8ee",
   "metadata": {},
   "source": [
    "- Using arr.reshape() will give a new shape to an array without changing the data. the reshape method, the array we want to produce needs to have the same number of elements as the original array."
   ]
  },
  {
   "cell_type": "code",
   "execution_count": 119,
   "id": "12c993b4-c1b0-4af5-95d3-12c8369940e6",
   "metadata": {},
   "outputs": [
    {
     "name": "stdout",
     "output_type": "stream",
     "text": [
      "[0 1 2 3 4 5 6 7 8 9]\n"
     ]
    }
   ],
   "source": [
    "a=np.arange(10)\n",
    "print(a)"
   ]
  },
  {
   "cell_type": "code",
   "execution_count": 107,
   "id": "41f3fc94-1776-46b5-bada-aadc340532a3",
   "metadata": {},
   "outputs": [
    {
     "name": "stdout",
     "output_type": "stream",
     "text": [
      "[[ 1  2]\n",
      " [ 3  4]\n",
      " [ 5  6]\n",
      " [ 7 11]\n",
      " [ 9 10]\n",
      " [11 12]\n",
      " [13 14]]\n"
     ]
    }
   ],
   "source": [
    "#Convert the following 1-D array with 12 elements into a 2-D array.\n",
    "arr = np.array([1, 2, 3, 4, 5, 6, 7, 11, 9, 10, 11, 12, 13, 14])\n",
    "\n",
    "newarr = arr.reshape(7, 2)\n",
    "\n",
    "print(newarr)"
   ]
  },
  {
   "cell_type": "code",
   "execution_count": 111,
   "id": "fc7c1bc8-67d3-4e7c-9bfe-19bd273ba197",
   "metadata": {},
   "outputs": [
    {
     "name": "stdout",
     "output_type": "stream",
     "text": [
      "[[[ 1  2  3]\n",
      "  [ 4  5  6]]\n",
      "\n",
      " [[ 7  8  9]\n",
      "  [10 11 12]]]\n"
     ]
    }
   ],
   "source": [
    "#Convert the following 1-D array with 12 elements into a 3-D arrray\n",
    "\n",
    "arr = np.array([1, 2, 3, 4, 5, 6, 7, 8, 9, 10, 11, 12])\n",
    "\n",
    "newarr = arr.reshape(2, 2, 3)\n",
    "\n",
    "print(newarr)"
   ]
  },
  {
   "cell_type": "code",
   "execution_count": 123,
   "id": "0f595aae-0c53-46a7-9b21-4cbf96789129",
   "metadata": {},
   "outputs": [
    {
     "name": "stdout",
     "output_type": "stream",
     "text": [
      "[ 1  2  3  4  5  6  7  8  9 10 11 12]\n"
     ]
    }
   ],
   "source": [
    "#Convert the following 2-D array with 12 elements into a 1-D arrray\n",
    "\n",
    "arr = np.array([[1, 2, 3, 4], \n",
    "    [5, 6, 7, 8],[ 9, 10, 11, 12]])\n",
    "\n",
    "newarr = arr.reshape(12)\n",
    "\n",
    "print(newarr)"
   ]
  },
  {
   "cell_type": "code",
   "execution_count": 125,
   "id": "1db25695-86fe-470d-a023-7ffc4ece0503",
   "metadata": {},
   "outputs": [
    {
     "name": "stdout",
     "output_type": "stream",
     "text": [
      "[[[ 1  2  3]\n",
      "  [ 4  5  6]\n",
      "  [ 7  8  9]\n",
      "  [10 11 12]]]\n"
     ]
    }
   ],
   "source": [
    "#Convert the following 2-D array with 12 elements into a 3-D arrray\n",
    "\n",
    "arr = np.array([[1, 2, 3, 4], \n",
    "    [5, 6, 7, 8],[ 9, 10, 11, 12]])\n",
    "\n",
    "newarr = arr.reshape(1,4,3)\n",
    "\n",
    "print(newarr)"
   ]
  },
  {
   "cell_type": "code",
   "execution_count": 129,
   "id": "b46b4b22-5c73-43b8-a881-488dccf7199f",
   "metadata": {},
   "outputs": [
    {
     "name": "stdout",
     "output_type": "stream",
     "text": [
      "[[ 1  2  3  4]\n",
      " [ 5  6  7  8]\n",
      " [ 9 10 11 12]]\n"
     ]
    }
   ],
   "source": [
    "#Convert the following 3-D array with 12 elements into a 2-D arrray\n",
    "arr = np.array([[[1, 2, 3, 4]], \n",
    "    [[5, 6, 7, 8]],[[ 9, 10, 11, 12]]])\n",
    "\n",
    "newarr = arr.reshape(3,4)\n",
    "\n",
    "print(newarr)"
   ]
  },
  {
   "cell_type": "code",
   "execution_count": 133,
   "id": "bfc79ab8-92c8-41c2-b098-d835345ea31a",
   "metadata": {},
   "outputs": [
    {
     "name": "stdout",
     "output_type": "stream",
     "text": [
      "[ 1  2  3  4  5  6  7  8  9 10 11 12]\n"
     ]
    }
   ],
   "source": [
    "#Convert the following 3-D array with 12 elements into a 1-D arrray\n",
    "arr = np.array([[[1, 2, 3, 4]], \n",
    "    [[5, 6, 7, 8]],[[ 9, 10, 11, 12]]])\n",
    "\n",
    "newarr = arr.reshape(12)\n",
    "\n",
    "print(newarr)"
   ]
  },
  {
   "cell_type": "code",
   "execution_count": 141,
   "id": "0adbe52f-67b1-41fb-97e2-08405d5d040a",
   "metadata": {},
   "outputs": [],
   "source": [
    "# Python Program to create\n",
    "# a data type object\n",
    "x = np.array([[5,2],[3,12]])\n",
    "y = np.array([[2,9],[4,8]])"
   ]
  },
  {
   "cell_type": "code",
   "execution_count": 143,
   "id": "e9704ba6-6fd2-45d1-b2b5-cd6bcec4eed3",
   "metadata": {},
   "outputs": [
    {
     "name": "stdout",
     "output_type": "stream",
     "text": [
      "[[ 7 11]\n",
      " [ 7 20]]\n",
      "[[ 7 11]\n",
      " [ 7 20]]\n"
     ]
    }
   ],
   "source": [
    "# Addition of two Arrays\n",
    "print(x + y)\n",
    "print(np.add(x, y))"
   ]
  },
  {
   "cell_type": "code",
   "execution_count": 147,
   "id": "4f58edf5-51fe-4919-b59c-88120076c49c",
   "metadata": {},
   "outputs": [
    {
     "name": "stdout",
     "output_type": "stream",
     "text": [
      "[[ 3 -7]\n",
      " [-1  4]]\n",
      "[[ 3 -7]\n",
      " [-1  4]]\n"
     ]
    }
   ],
   "source": [
    "# subtract of the elements\n",
    "print(x - y)\n",
    "print(np.subtract(x, y))"
   ]
  },
  {
   "cell_type": "code",
   "execution_count": 149,
   "id": "64b121de-c71c-4c5f-85f4-8e3e63882d63",
   "metadata": {},
   "outputs": [
    {
     "name": "stdout",
     "output_type": "stream",
     "text": [
      "[[10 18]\n",
      " [12 96]]\n",
      "[[10 18]\n",
      " [12 96]]\n"
     ]
    }
   ],
   "source": [
    "#multiplication or  product\n",
    "print(x * y)\n",
    "print(np.multiply(x, y))\n",
    "\n"
   ]
  },
  {
   "cell_type": "code",
   "execution_count": 151,
   "id": "fafe4112-5e3d-40ba-8e5b-e977d2c2c269",
   "metadata": {},
   "outputs": [
    {
     "name": "stdout",
     "output_type": "stream",
     "text": [
      "[[2.5        0.22222222]\n",
      " [0.75       1.5       ]]\n",
      "[[2.5        0.22222222]\n",
      " [0.75       1.5       ]]\n"
     ]
    }
   ],
   "source": [
    "#division\n",
    "print(x / y)\n",
    "print(np.divide(x, y))"
   ]
  },
  {
   "cell_type": "code",
   "execution_count": 153,
   "id": "0d4e7520-5a7f-4226-aa21-7bed71c46ebf",
   "metadata": {},
   "outputs": [
    {
     "name": "stdout",
     "output_type": "stream",
     "text": [
      "[[2.23606798 1.41421356]\n",
      " [1.73205081 3.46410162]]\n",
      "[[1.41421356 3.        ]\n",
      " [2.         2.82842712]]\n"
     ]
    }
   ],
   "source": [
    "#square root\n",
    "print(np.sqrt(x))\n",
    "print(np.sqrt(y))"
   ]
  },
  {
   "cell_type": "code",
   "execution_count": 155,
   "id": "25570715-9e0b-4649-b657-6d8533676b9c",
   "metadata": {},
   "outputs": [
    {
     "name": "stdout",
     "output_type": "stream",
     "text": [
      "[0 1 2 3]\n"
     ]
    }
   ],
   "source": [
    "# sort (assending odder)\n",
    "arr = np.array([3, 2, 0, 1])\n",
    "print(np.sort(arr))"
   ]
  },
  {
   "cell_type": "markdown",
   "id": "1f411aa1-5bdf-44ab-ae6f-bafe87a63dc0",
   "metadata": {},
   "source": [
    "### NumPy Array Slicing\n",
    "\n",
    "- Slicing in python means taking elements from one given index to another given index.\n",
    "\n",
    "- We pass slice instead of index like this: [start:end].\n",
    "\n",
    "- We can also define the step, like this: [start:end:step].\n",
    "\n",
    "- If we don't pass start its considered 0\n",
    "\n",
    "- If we don't pass end its considered length of array in that dimension\n",
    "\n",
    "- If we don't pass step its considered 1"
   ]
  },
  {
   "cell_type": "code",
   "execution_count": 160,
   "id": "1d227b72-fe4e-4c98-8106-af52604c5132",
   "metadata": {},
   "outputs": [
    {
     "name": "stdout",
     "output_type": "stream",
     "text": [
      "[1 2 3 4]\n"
     ]
    }
   ],
   "source": [
    "import numpy as np\n",
    "\n",
    "arr = np.array([1, 2, 3, 4, 5, 6, 7])\n",
    "\n",
    "print(arr[0:4])"
   ]
  },
  {
   "cell_type": "code",
   "execution_count": 39,
   "id": "bdba82ab-dbc5-43a8-9d9c-5a2f7563a1ac",
   "metadata": {},
   "outputs": [
    {
     "name": "stdout",
     "output_type": "stream",
     "text": [
      "[1 2 3 4]\n"
     ]
    }
   ],
   "source": [
    "import numpy as np\n",
    "\n",
    "arr = np.array([1, 2, 3, 4, 5, 6, 7])\n",
    "\n",
    "print(arr[:-3])"
   ]
  },
  {
   "cell_type": "code",
   "execution_count": 41,
   "id": "97f91964-4153-4aaa-bba3-006b60e2a88b",
   "metadata": {},
   "outputs": [
    {
     "name": "stdout",
     "output_type": "stream",
     "text": [
      "[4]\n"
     ]
    }
   ],
   "source": [
    "import numpy as np\n",
    "\n",
    "arr = np.array([1, 2, 3, 4, 5, 6, 7])\n",
    "\n",
    "print(arr[-4:-3])"
   ]
  },
  {
   "cell_type": "code",
   "execution_count": 43,
   "id": "1c0cd20e-7cf4-4d41-bc8a-f13937d877f1",
   "metadata": {},
   "outputs": [
    {
     "name": "stdout",
     "output_type": "stream",
     "text": [
      "[7 8 9]\n"
     ]
    }
   ],
   "source": [
    "# Slicing 2-D Arrays \n",
    "\n",
    "import numpy as np\n",
    "\n",
    "arr = np.array([[1, 2, 3, 4, 5],   #0\n",
    "                [6, 7, 8, 9, 10]])  #1\n",
    "\n",
    "print(arr[1, 1:4])"
   ]
  },
  {
   "cell_type": "code",
   "execution_count": 45,
   "id": "5d1bd501-8cf4-4fe6-9495-a5c8b3f5a04b",
   "metadata": {},
   "outputs": [
    {
     "name": "stdout",
     "output_type": "stream",
     "text": [
      "[7]\n"
     ]
    }
   ],
   "source": [
    "import numpy as np\n",
    "\n",
    "arr = np.array([[1, 2, 3, 4, 5],   #0\n",
    "                \n",
    "                [6, 7, 8, 9, 10]])  #1\n",
    "\n",
    "print(arr[1:2, 1])"
   ]
  },
  {
   "cell_type": "code",
   "execution_count": 121,
   "id": "482b77ec-b7ff-4f74-9158-29c740b9fdd9",
   "metadata": {},
   "outputs": [
    {
     "name": "stdout",
     "output_type": "stream",
     "text": [
      "[[9 3]]\n"
     ]
    }
   ],
   "source": [
    "\n",
    "             #0  #1 #2\n",
    "a = np.array([[3, 4, 5],  #0\n",
    "              [5, 7, 8],  #1\n",
    "              [8, 9, 3],\n",
    "              [4,7,8]]) \n",
    "print(a[2:3,1:3])"
   ]
  },
  {
   "cell_type": "code",
   "execution_count": 119,
   "id": "00b331bf-321e-4c14-a87d-a6ab244388bc",
   "metadata": {},
   "outputs": [
    {
     "name": "stdout",
     "output_type": "stream",
     "text": [
      "[[74]\n",
      " [98]]\n"
     ]
    }
   ],
   "source": [
    "a = np.array([[13, 9, 35],  #0\n",
    "              [58, 74, 88],  #1\n",
    "              [88, 98, 3]]) #2 \n",
    "print(a[1:3,1:2])"
   ]
  },
  {
   "cell_type": "code",
   "execution_count": 215,
   "id": "2caf0364-f26f-40f6-9df5-a38b7a8587d9",
   "metadata": {},
   "outputs": [
    {
     "name": "stdout",
     "output_type": "stream",
     "text": [
      "[[[[13  9 35]]]]\n"
     ]
    }
   ],
   "source": [
    "a = np.array([[[[13, 9, 35]]],  #0\n",
    "              [[[58, 74, 88]]],  #1\n",
    "              [[[88, 98, 3]]]]) #2 \n",
    "print(a[0:1])\n"
   ]
  },
  {
   "cell_type": "code",
   "execution_count": null,
   "id": "1f7df139-1869-4bd6-99af-a18557369f17",
   "metadata": {},
   "outputs": [],
   "source": []
  }
 ],
 "metadata": {
  "kernelspec": {
   "display_name": "Python 3 (ipykernel)",
   "language": "python",
   "name": "python3"
  },
  "language_info": {
   "codemirror_mode": {
    "name": "ipython",
    "version": 3
   },
   "file_extension": ".py",
   "mimetype": "text/x-python",
   "name": "python",
   "nbconvert_exporter": "python",
   "pygments_lexer": "ipython3",
   "version": "3.12.4"
  }
 },
 "nbformat": 4,
 "nbformat_minor": 5
}
