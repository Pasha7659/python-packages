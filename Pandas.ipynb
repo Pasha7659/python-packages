{
 "cells": [
  {
   "cell_type": "markdown",
   "id": "ff2f0457-a351-4590-afe2-e01e77d9e65e",
   "metadata": {},
   "source": [
    "# Pandas\n",
    "\n",
    "- Pandas is an open-source Python library designed for data manipulation and analysis.\n",
    "-  It provides high-performance, easy-to-use data structures and data analysis tools that make working with structured data (like tables) intuitive and efficient.\n",
    "-  the most widely used libraries in data analysis and data science.\n",
    "-  Its capabilities extend far beyond basic operations, making it a robust tool for handling and processing data efficiently. Below is a deeper dive into Pandas and its functionalities.\n",
    "\n"
   ]
  },
  {
   "cell_type": "markdown",
   "id": "973bec12-08e9-4241-90db-b8209cc56de2",
   "metadata": {},
   "source": [
    "### Key Features\n",
    "\n",
    "- Data Cleaning: Handling missing data, removing duplicates, and correcting inconsistencies.\n",
    "- Data Selection: Extracting rows and columns easily.\n",
    "- Data Transformation: Applying functions, filtering, and grouping data.\n",
    "- Data Aggregation: Calculating sums, averages, counts, and other statistics.\n",
    "- File I/O: Reading and writing data to/from formats like CSV, Excel, SQL, and JSON.\n",
    "\n"
   ]
  },
  {
   "cell_type": "markdown",
   "id": "1cb53f09-9bed-4479-ab58-f0511da78a79",
   "metadata": {},
   "source": [
    "### Why Use Pandas?\n",
    "\n",
    "- It simplifies complex data operations and reduces the amount of code needed.\n",
    "- It's highly compatible with other libraries, such as NumPy, Matplotlib, and scikit-learn, for tasks like numerical computation, visualization, and machine learning."
   ]
  },
  {
   "cell_type": "markdown",
   "id": "878abcce-270c-45eb-9dfc-fb0031ea7a7e",
   "metadata": {},
   "source": [
    "### Instalaion of pandas\n",
    "\n",
    "- By using ! pip install pandas  it is already present in our jupiter notebook"
   ]
  },
  {
   "cell_type": "code",
   "execution_count": 15,
   "id": "df7abf90-4dc3-4318-b514-9aab43da53bb",
   "metadata": {},
   "outputs": [
    {
     "name": "stdout",
     "output_type": "stream",
     "text": [
      "Requirement already satisfied: pandas in c:\\users\\pasha\\anaconda3\\lib\\site-packages (2.2.2)\n",
      "Requirement already satisfied: numpy>=1.26.0 in c:\\users\\pasha\\anaconda3\\lib\\site-packages (from pandas) (1.26.4)\n",
      "Requirement already satisfied: python-dateutil>=2.8.2 in c:\\users\\pasha\\anaconda3\\lib\\site-packages (from pandas) (2.9.0.post0)\n",
      "Requirement already satisfied: pytz>=2020.1 in c:\\users\\pasha\\anaconda3\\lib\\site-packages (from pandas) (2024.1)\n",
      "Requirement already satisfied: tzdata>=2022.7 in c:\\users\\pasha\\anaconda3\\lib\\site-packages (from pandas) (2023.3)\n",
      "Requirement already satisfied: six>=1.5 in c:\\users\\pasha\\anaconda3\\lib\\site-packages (from python-dateutil>=2.8.2->pandas) (1.16.0)\n"
     ]
    }
   ],
   "source": [
    "! pip install pandas"
   ]
  },
  {
   "cell_type": "markdown",
   "id": "0479d984-01be-44ea-a740-5819235d1c47",
   "metadata": {},
   "source": [
    "### Importing pandas\n",
    "\n",
    "- By using import pandas as pd we can import pandas"
   ]
  },
  {
   "cell_type": "code",
   "execution_count": 9,
   "id": "46f855ae-7f75-4592-b979-ec781eb5282e",
   "metadata": {},
   "outputs": [],
   "source": [
    "import  pandas as pd"
   ]
  },
  {
   "cell_type": "markdown",
   "id": "be2b8422-a4f7-4c92-b381-203e9bb412e7",
   "metadata": {},
   "source": [
    "### Uploading csv file.\n",
    "\n",
    "- Uploading a CSV file in Pandas is a straightforward process. The library provides the read_csv() function to load data from a CSV file into a Pandas DataFrame for analysis.\n",
    "- Use the read_csv() function to read the CSV file and load it into a DataFrame"
   ]
  },
  {
   "cell_type": "code",
   "execution_count": 11,
   "id": "cc788a72-f92d-44ae-942d-603c61d0c119",
   "metadata": {},
   "outputs": [
    {
     "data": {
      "text/html": [
       "<div>\n",
       "<style scoped>\n",
       "    .dataframe tbody tr th:only-of-type {\n",
       "        vertical-align: middle;\n",
       "    }\n",
       "\n",
       "    .dataframe tbody tr th {\n",
       "        vertical-align: top;\n",
       "    }\n",
       "\n",
       "    .dataframe thead th {\n",
       "        text-align: right;\n",
       "    }\n",
       "</style>\n",
       "<table border=\"1\" class=\"dataframe\">\n",
       "  <thead>\n",
       "    <tr style=\"text-align: right;\">\n",
       "      <th></th>\n",
       "      <th>Unnamed: 0</th>\n",
       "      <th>Hospital</th>\n",
       "      <th>State</th>\n",
       "      <th>City</th>\n",
       "      <th>LocalAddress</th>\n",
       "      <th>Pincode</th>\n",
       "    </tr>\n",
       "  </thead>\n",
       "  <tbody>\n",
       "    <tr>\n",
       "      <th>0</th>\n",
       "      <td>0</td>\n",
       "      <td>A A Hospital</td>\n",
       "      <td>Tamilnadu</td>\n",
       "      <td>Hosur</td>\n",
       "      <td>Denkani Kottai Road Mathigiri</td>\n",
       "      <td>635110.0</td>\n",
       "    </tr>\n",
       "    <tr>\n",
       "      <th>1</th>\n",
       "      <td>1</td>\n",
       "      <td>A C Hospital</td>\n",
       "      <td>Tamilnadu</td>\n",
       "      <td>Chennai</td>\n",
       "      <td>No-8, 3Rd Main Road, United India Nagar, Ayana...</td>\n",
       "      <td>600023.0</td>\n",
       "    </tr>\n",
       "    <tr>\n",
       "      <th>2</th>\n",
       "      <td>2</td>\n",
       "      <td>A-Care Orthopaedic &amp; General Hospital</td>\n",
       "      <td>Maharashtra</td>\n",
       "      <td>Mumbai</td>\n",
       "      <td>G-1, Giriraj Tower, Sai Baba Nagar, Mira Bhaya...</td>\n",
       "      <td>401107.0</td>\n",
       "    </tr>\n",
       "    <tr>\n",
       "      <th>3</th>\n",
       "      <td>3</td>\n",
       "      <td>A-One Hospital Pvt Ltd</td>\n",
       "      <td>Delhi</td>\n",
       "      <td>Delhi</td>\n",
       "      <td>A-1/7, Panchim Vihar, Rohtak Road, New Delhi-1...</td>\n",
       "      <td>110063.0</td>\n",
       "    </tr>\n",
       "    <tr>\n",
       "      <th>4</th>\n",
       "      <td>4</td>\n",
       "      <td>A.B.Eye Institute</td>\n",
       "      <td>Bihar</td>\n",
       "      <td>Patna</td>\n",
       "      <td>Road No.12, Rajendra Nagar, Patna, Bihar-800016</td>\n",
       "      <td>800016.0</td>\n",
       "    </tr>\n",
       "    <tr>\n",
       "      <th>...</th>\n",
       "      <td>...</td>\n",
       "      <td>...</td>\n",
       "      <td>...</td>\n",
       "      <td>...</td>\n",
       "      <td>...</td>\n",
       "      <td>...</td>\n",
       "    </tr>\n",
       "    <tr>\n",
       "      <th>1343</th>\n",
       "      <td>1343</td>\n",
       "      <td>Dr. Mahesh Rathod Hospital</td>\n",
       "      <td>Gujarat</td>\n",
       "      <td>Rajkot</td>\n",
       "      <td>1, Sardarnagar, Nr. Astran Chowk, Rajkot</td>\n",
       "      <td>360001.0</td>\n",
       "    </tr>\n",
       "    <tr>\n",
       "      <th>1344</th>\n",
       "      <td>1344</td>\n",
       "      <td>Dr. Malathi Manipal Hospital</td>\n",
       "      <td>Karnataka</td>\n",
       "      <td>Bangalore</td>\n",
       "      <td>45/1, 45Th Cross, 9Th Block, Jayanagar, Bangal...</td>\n",
       "      <td>560069.0</td>\n",
       "    </tr>\n",
       "    <tr>\n",
       "      <th>1345</th>\n",
       "      <td>1345</td>\n",
       "      <td>Dr. Manish Patankars Nath Hospital</td>\n",
       "      <td>Maharashtra</td>\n",
       "      <td>Mumbai</td>\n",
       "      <td>101, A-Wing, Golden Havens Apartments, Kolbad ...</td>\n",
       "      <td>400601.0</td>\n",
       "    </tr>\n",
       "    <tr>\n",
       "      <th>1346</th>\n",
       "      <td>1346</td>\n",
       "      <td>Dr. Manohara Sai Gowda Memorial Hospital</td>\n",
       "      <td>Karnataka</td>\n",
       "      <td>Mulbagal</td>\n",
       "      <td>Nh-4, Opposite Inspection Bungalow, Mulbagal</td>\n",
       "      <td>563131.0</td>\n",
       "    </tr>\n",
       "    <tr>\n",
       "      <th>1347</th>\n",
       "      <td>1347</td>\n",
       "      <td>Dr. Mehta'S Multispeciality Hospital Pvt Ltd.</td>\n",
       "      <td>Tamilnadu</td>\n",
       "      <td>Chennai</td>\n",
       "      <td>2 (E), Mc. Nicholas Road, Chennai, Opposite To...</td>\n",
       "      <td>600031.0</td>\n",
       "    </tr>\n",
       "  </tbody>\n",
       "</table>\n",
       "<p>1348 rows × 6 columns</p>\n",
       "</div>"
      ],
      "text/plain": [
       "      Unnamed: 0                                       Hospital        State  \\\n",
       "0              0                                   A A Hospital    Tamilnadu   \n",
       "1              1                                   A C Hospital    Tamilnadu   \n",
       "2              2          A-Care Orthopaedic & General Hospital  Maharashtra   \n",
       "3              3                         A-One Hospital Pvt Ltd        Delhi   \n",
       "4              4                              A.B.Eye Institute        Bihar   \n",
       "...          ...                                            ...          ...   \n",
       "1343        1343                     Dr. Mahesh Rathod Hospital      Gujarat   \n",
       "1344        1344                   Dr. Malathi Manipal Hospital    Karnataka   \n",
       "1345        1345             Dr. Manish Patankars Nath Hospital  Maharashtra   \n",
       "1346        1346       Dr. Manohara Sai Gowda Memorial Hospital    Karnataka   \n",
       "1347        1347  Dr. Mehta'S Multispeciality Hospital Pvt Ltd.    Tamilnadu   \n",
       "\n",
       "           City                                       LocalAddress   Pincode  \n",
       "0         Hosur                      Denkani Kottai Road Mathigiri  635110.0  \n",
       "1       Chennai  No-8, 3Rd Main Road, United India Nagar, Ayana...  600023.0  \n",
       "2        Mumbai  G-1, Giriraj Tower, Sai Baba Nagar, Mira Bhaya...  401107.0  \n",
       "3         Delhi  A-1/7, Panchim Vihar, Rohtak Road, New Delhi-1...  110063.0  \n",
       "4         Patna    Road No.12, Rajendra Nagar, Patna, Bihar-800016  800016.0  \n",
       "...         ...                                                ...       ...  \n",
       "1343     Rajkot           1, Sardarnagar, Nr. Astran Chowk, Rajkot  360001.0  \n",
       "1344  Bangalore  45/1, 45Th Cross, 9Th Block, Jayanagar, Bangal...  560069.0  \n",
       "1345     Mumbai  101, A-Wing, Golden Havens Apartments, Kolbad ...  400601.0  \n",
       "1346   Mulbagal       Nh-4, Opposite Inspection Bungalow, Mulbagal  563131.0  \n",
       "1347    Chennai  2 (E), Mc. Nicholas Road, Chennai, Opposite To...  600031.0  \n",
       "\n",
       "[1348 rows x 6 columns]"
      ]
     },
     "execution_count": 11,
     "metadata": {},
     "output_type": "execute_result"
    }
   ],
   "source": [
    "df = pd.read_csv(r\"C:\\Users\\Pasha\\Downloads\\archive.zip\")\n",
    "df  # to get all data in file we uploaded"
   ]
  },
  {
   "cell_type": "markdown",
   "id": "ac76c951-129c-443a-8e11-225839c2b975",
   "metadata": {},
   "source": [
    "### About Head()\n",
    "- The head() method is a simple yet powerful tool for data inspection.\n",
    "- Default behavior shows the first 5 rows, but this can be adjusted with the n parameter.\n",
    "- Frequently used in data exploration and debugging."
   ]
  },
  {
   "cell_type": "code",
   "execution_count": 13,
   "id": "ad076eb2-e87e-4ac2-91a7-29fdd48835d4",
   "metadata": {},
   "outputs": [
    {
     "data": {
      "text/html": [
       "<div>\n",
       "<style scoped>\n",
       "    .dataframe tbody tr th:only-of-type {\n",
       "        vertical-align: middle;\n",
       "    }\n",
       "\n",
       "    .dataframe tbody tr th {\n",
       "        vertical-align: top;\n",
       "    }\n",
       "\n",
       "    .dataframe thead th {\n",
       "        text-align: right;\n",
       "    }\n",
       "</style>\n",
       "<table border=\"1\" class=\"dataframe\">\n",
       "  <thead>\n",
       "    <tr style=\"text-align: right;\">\n",
       "      <th></th>\n",
       "      <th>Unnamed: 0</th>\n",
       "      <th>Hospital</th>\n",
       "      <th>State</th>\n",
       "      <th>City</th>\n",
       "      <th>LocalAddress</th>\n",
       "      <th>Pincode</th>\n",
       "    </tr>\n",
       "  </thead>\n",
       "  <tbody>\n",
       "    <tr>\n",
       "      <th>0</th>\n",
       "      <td>0</td>\n",
       "      <td>A A Hospital</td>\n",
       "      <td>Tamilnadu</td>\n",
       "      <td>Hosur</td>\n",
       "      <td>Denkani Kottai Road Mathigiri</td>\n",
       "      <td>635110.0</td>\n",
       "    </tr>\n",
       "    <tr>\n",
       "      <th>1</th>\n",
       "      <td>1</td>\n",
       "      <td>A C Hospital</td>\n",
       "      <td>Tamilnadu</td>\n",
       "      <td>Chennai</td>\n",
       "      <td>No-8, 3Rd Main Road, United India Nagar, Ayana...</td>\n",
       "      <td>600023.0</td>\n",
       "    </tr>\n",
       "    <tr>\n",
       "      <th>2</th>\n",
       "      <td>2</td>\n",
       "      <td>A-Care Orthopaedic &amp; General Hospital</td>\n",
       "      <td>Maharashtra</td>\n",
       "      <td>Mumbai</td>\n",
       "      <td>G-1, Giriraj Tower, Sai Baba Nagar, Mira Bhaya...</td>\n",
       "      <td>401107.0</td>\n",
       "    </tr>\n",
       "    <tr>\n",
       "      <th>3</th>\n",
       "      <td>3</td>\n",
       "      <td>A-One Hospital Pvt Ltd</td>\n",
       "      <td>Delhi</td>\n",
       "      <td>Delhi</td>\n",
       "      <td>A-1/7, Panchim Vihar, Rohtak Road, New Delhi-1...</td>\n",
       "      <td>110063.0</td>\n",
       "    </tr>\n",
       "    <tr>\n",
       "      <th>4</th>\n",
       "      <td>4</td>\n",
       "      <td>A.B.Eye Institute</td>\n",
       "      <td>Bihar</td>\n",
       "      <td>Patna</td>\n",
       "      <td>Road No.12, Rajendra Nagar, Patna, Bihar-800016</td>\n",
       "      <td>800016.0</td>\n",
       "    </tr>\n",
       "    <tr>\n",
       "      <th>5</th>\n",
       "      <td>5</td>\n",
       "      <td>A.C. Hospital</td>\n",
       "      <td>Tamilnadu</td>\n",
       "      <td>Salem</td>\n",
       "      <td>201,2Nd Agraharam</td>\n",
       "      <td>636001.0</td>\n",
       "    </tr>\n",
       "    <tr>\n",
       "      <th>6</th>\n",
       "      <td>6</td>\n",
       "      <td>A.G. Eye Care Hospitals (U Nit Of Dr. A.G. Eye...</td>\n",
       "      <td>Tamilnadu</td>\n",
       "      <td>Chennai</td>\n",
       "      <td>No. 106, R.K. Mutt Road. Mylapore, Chennai, Ta...</td>\n",
       "      <td>600004.0</td>\n",
       "    </tr>\n",
       "    <tr>\n",
       "      <th>7</th>\n",
       "      <td>7</td>\n",
       "      <td>A.G. Hospital</td>\n",
       "      <td>Tamilnadu</td>\n",
       "      <td>Coimbatore</td>\n",
       "      <td>34, Kpn Colony 3Rd Street, Tirupur</td>\n",
       "      <td>641601.0</td>\n",
       "    </tr>\n",
       "    <tr>\n",
       "      <th>8</th>\n",
       "      <td>8</td>\n",
       "      <td>A.G. Padmavati'S Hospital Ltd.</td>\n",
       "      <td>Tamilnadu</td>\n",
       "      <td>Pondicherry</td>\n",
       "      <td>R.S. No.127/A, Villianur Main Road, Arumpartha...</td>\n",
       "      <td>605110.0</td>\n",
       "    </tr>\n",
       "    <tr>\n",
       "      <th>9</th>\n",
       "      <td>9</td>\n",
       "      <td>A.J. Hospital</td>\n",
       "      <td>Kerala</td>\n",
       "      <td>Trivandrum</td>\n",
       "      <td>Kazhakuttam, P.O., Thiruvananthapuram, Trivand...</td>\n",
       "      <td>695582.0</td>\n",
       "    </tr>\n",
       "  </tbody>\n",
       "</table>\n",
       "</div>"
      ],
      "text/plain": [
       "   Unnamed: 0                                           Hospital        State  \\\n",
       "0           0                                       A A Hospital    Tamilnadu   \n",
       "1           1                                       A C Hospital    Tamilnadu   \n",
       "2           2              A-Care Orthopaedic & General Hospital  Maharashtra   \n",
       "3           3                             A-One Hospital Pvt Ltd        Delhi   \n",
       "4           4                                  A.B.Eye Institute        Bihar   \n",
       "5           5                                      A.C. Hospital    Tamilnadu   \n",
       "6           6  A.G. Eye Care Hospitals (U Nit Of Dr. A.G. Eye...    Tamilnadu   \n",
       "7           7                                      A.G. Hospital    Tamilnadu   \n",
       "8           8                     A.G. Padmavati'S Hospital Ltd.    Tamilnadu   \n",
       "9           9                                      A.J. Hospital       Kerala   \n",
       "\n",
       "          City                                       LocalAddress   Pincode  \n",
       "0        Hosur                      Denkani Kottai Road Mathigiri  635110.0  \n",
       "1      Chennai  No-8, 3Rd Main Road, United India Nagar, Ayana...  600023.0  \n",
       "2       Mumbai  G-1, Giriraj Tower, Sai Baba Nagar, Mira Bhaya...  401107.0  \n",
       "3        Delhi  A-1/7, Panchim Vihar, Rohtak Road, New Delhi-1...  110063.0  \n",
       "4        Patna    Road No.12, Rajendra Nagar, Patna, Bihar-800016  800016.0  \n",
       "5        Salem                                  201,2Nd Agraharam  636001.0  \n",
       "6      Chennai  No. 106, R.K. Mutt Road. Mylapore, Chennai, Ta...  600004.0  \n",
       "7   Coimbatore                 34, Kpn Colony 3Rd Street, Tirupur  641601.0  \n",
       "8  Pondicherry  R.S. No.127/A, Villianur Main Road, Arumpartha...  605110.0  \n",
       "9   Trivandrum  Kazhakuttam, P.O., Thiruvananthapuram, Trivand...  695582.0  "
      ]
     },
     "execution_count": 13,
     "metadata": {},
     "output_type": "execute_result"
    }
   ],
   "source": [
    "# Viewing of head()\n",
    "df.head(10)"
   ]
  },
  {
   "cell_type": "markdown",
   "id": "0e0817ca-5900-47ab-bf4b-a2e677424706",
   "metadata": {},
   "source": [
    "### About Tail()\n",
    "- In Pandas, the tail() method is used to view the last few rows of a DataFrame or Series.\n",
    "- It's especially helpful when you want to inspect the end of your dataset, such as checking trailing data or verifying the structure of the last rows."
   ]
  },
  {
   "cell_type": "code",
   "execution_count": 15,
   "id": "9aa40f35-28f4-4512-8eea-41a3cb420e36",
   "metadata": {},
   "outputs": [
    {
     "data": {
      "text/html": [
       "<div>\n",
       "<style scoped>\n",
       "    .dataframe tbody tr th:only-of-type {\n",
       "        vertical-align: middle;\n",
       "    }\n",
       "\n",
       "    .dataframe tbody tr th {\n",
       "        vertical-align: top;\n",
       "    }\n",
       "\n",
       "    .dataframe thead th {\n",
       "        text-align: right;\n",
       "    }\n",
       "</style>\n",
       "<table border=\"1\" class=\"dataframe\">\n",
       "  <thead>\n",
       "    <tr style=\"text-align: right;\">\n",
       "      <th></th>\n",
       "      <th>Unnamed: 0</th>\n",
       "      <th>Hospital</th>\n",
       "      <th>State</th>\n",
       "      <th>City</th>\n",
       "      <th>LocalAddress</th>\n",
       "      <th>Pincode</th>\n",
       "    </tr>\n",
       "  </thead>\n",
       "  <tbody>\n",
       "    <tr>\n",
       "      <th>1338</th>\n",
       "      <td>1338</td>\n",
       "      <td>Dr. Kulkarni Hospital</td>\n",
       "      <td>Maharashtra</td>\n",
       "      <td>Pune</td>\n",
       "      <td>10A 11 Kalyan Peth,Junnar</td>\n",
       "      <td>410502.0</td>\n",
       "    </tr>\n",
       "    <tr>\n",
       "      <th>1339</th>\n",
       "      <td>1339</td>\n",
       "      <td>Dr. Kumaraswami Health Centre ( A Unit Of Indi...</td>\n",
       "      <td>Tamilnadu</td>\n",
       "      <td>Kanyakumari</td>\n",
       "      <td>N.H. Road # 47, 1/4C,1/4D,1/4E Perumalpuramper...</td>\n",
       "      <td>629703.0</td>\n",
       "    </tr>\n",
       "    <tr>\n",
       "      <th>1340</th>\n",
       "      <td>1340</td>\n",
       "      <td>Dr. Kunhalu'S Nursing Home</td>\n",
       "      <td>Kerala</td>\n",
       "      <td>Ernakulam</td>\n",
       "      <td>T.D.Road, Ernakulamernakulam</td>\n",
       "      <td>682011.0</td>\n",
       "    </tr>\n",
       "    <tr>\n",
       "      <th>1341</th>\n",
       "      <td>1341</td>\n",
       "      <td>Dr. Loganathan Orthopaedic Hospital</td>\n",
       "      <td>Tamilnadu</td>\n",
       "      <td>Erode</td>\n",
       "      <td>606/A, Mettur Main Road, Bhavani,</td>\n",
       "      <td>638301.0</td>\n",
       "    </tr>\n",
       "    <tr>\n",
       "      <th>1342</th>\n",
       "      <td>1342</td>\n",
       "      <td>Dr. M.L.Gupta Memorial Centre</td>\n",
       "      <td>Haryana</td>\n",
       "      <td>Faridabad</td>\n",
       "      <td>B.P. 5E/4, Railway Road, Nit,Nit - Faridabad,</td>\n",
       "      <td>121001.0</td>\n",
       "    </tr>\n",
       "    <tr>\n",
       "      <th>1343</th>\n",
       "      <td>1343</td>\n",
       "      <td>Dr. Mahesh Rathod Hospital</td>\n",
       "      <td>Gujarat</td>\n",
       "      <td>Rajkot</td>\n",
       "      <td>1, Sardarnagar, Nr. Astran Chowk, Rajkot</td>\n",
       "      <td>360001.0</td>\n",
       "    </tr>\n",
       "    <tr>\n",
       "      <th>1344</th>\n",
       "      <td>1344</td>\n",
       "      <td>Dr. Malathi Manipal Hospital</td>\n",
       "      <td>Karnataka</td>\n",
       "      <td>Bangalore</td>\n",
       "      <td>45/1, 45Th Cross, 9Th Block, Jayanagar, Bangal...</td>\n",
       "      <td>560069.0</td>\n",
       "    </tr>\n",
       "    <tr>\n",
       "      <th>1345</th>\n",
       "      <td>1345</td>\n",
       "      <td>Dr. Manish Patankars Nath Hospital</td>\n",
       "      <td>Maharashtra</td>\n",
       "      <td>Mumbai</td>\n",
       "      <td>101, A-Wing, Golden Havens Apartments, Kolbad ...</td>\n",
       "      <td>400601.0</td>\n",
       "    </tr>\n",
       "    <tr>\n",
       "      <th>1346</th>\n",
       "      <td>1346</td>\n",
       "      <td>Dr. Manohara Sai Gowda Memorial Hospital</td>\n",
       "      <td>Karnataka</td>\n",
       "      <td>Mulbagal</td>\n",
       "      <td>Nh-4, Opposite Inspection Bungalow, Mulbagal</td>\n",
       "      <td>563131.0</td>\n",
       "    </tr>\n",
       "    <tr>\n",
       "      <th>1347</th>\n",
       "      <td>1347</td>\n",
       "      <td>Dr. Mehta'S Multispeciality Hospital Pvt Ltd.</td>\n",
       "      <td>Tamilnadu</td>\n",
       "      <td>Chennai</td>\n",
       "      <td>2 (E), Mc. Nicholas Road, Chennai, Opposite To...</td>\n",
       "      <td>600031.0</td>\n",
       "    </tr>\n",
       "  </tbody>\n",
       "</table>\n",
       "</div>"
      ],
      "text/plain": [
       "      Unnamed: 0                                           Hospital  \\\n",
       "1338        1338                              Dr. Kulkarni Hospital   \n",
       "1339        1339  Dr. Kumaraswami Health Centre ( A Unit Of Indi...   \n",
       "1340        1340                         Dr. Kunhalu'S Nursing Home   \n",
       "1341        1341                Dr. Loganathan Orthopaedic Hospital   \n",
       "1342        1342                      Dr. M.L.Gupta Memorial Centre   \n",
       "1343        1343                         Dr. Mahesh Rathod Hospital   \n",
       "1344        1344                       Dr. Malathi Manipal Hospital   \n",
       "1345        1345                 Dr. Manish Patankars Nath Hospital   \n",
       "1346        1346           Dr. Manohara Sai Gowda Memorial Hospital   \n",
       "1347        1347      Dr. Mehta'S Multispeciality Hospital Pvt Ltd.   \n",
       "\n",
       "            State         City  \\\n",
       "1338  Maharashtra         Pune   \n",
       "1339    Tamilnadu  Kanyakumari   \n",
       "1340       Kerala    Ernakulam   \n",
       "1341    Tamilnadu        Erode   \n",
       "1342      Haryana    Faridabad   \n",
       "1343      Gujarat       Rajkot   \n",
       "1344    Karnataka    Bangalore   \n",
       "1345  Maharashtra       Mumbai   \n",
       "1346    Karnataka     Mulbagal   \n",
       "1347    Tamilnadu      Chennai   \n",
       "\n",
       "                                           LocalAddress   Pincode  \n",
       "1338                          10A 11 Kalyan Peth,Junnar  410502.0  \n",
       "1339  N.H. Road # 47, 1/4C,1/4D,1/4E Perumalpuramper...  629703.0  \n",
       "1340                       T.D.Road, Ernakulamernakulam  682011.0  \n",
       "1341                  606/A, Mettur Main Road, Bhavani,  638301.0  \n",
       "1342      B.P. 5E/4, Railway Road, Nit,Nit - Faridabad,  121001.0  \n",
       "1343           1, Sardarnagar, Nr. Astran Chowk, Rajkot  360001.0  \n",
       "1344  45/1, 45Th Cross, 9Th Block, Jayanagar, Bangal...  560069.0  \n",
       "1345  101, A-Wing, Golden Havens Apartments, Kolbad ...  400601.0  \n",
       "1346       Nh-4, Opposite Inspection Bungalow, Mulbagal  563131.0  \n",
       "1347  2 (E), Mc. Nicholas Road, Chennai, Opposite To...  600031.0  "
      ]
     },
     "execution_count": 15,
     "metadata": {},
     "output_type": "execute_result"
    }
   ],
   "source": [
    "# Viewing of tail()\n",
    "df.tail(10)"
   ]
  },
  {
   "cell_type": "markdown",
   "id": "dcaf9e32-c95b-4a72-bd24-43784cbec25f",
   "metadata": {},
   "source": [
    "### About Describe()\n",
    "- the describe() method is used to generate summary statistics of a DataFrame or Series. This method provides key insights into the data, including measures like count, mean, standard deviation, minimum, maximum, and various percentiles.\n",
    "- it removes all chatageries(strings).\n",
    "\n"
   ]
  },
  {
   "cell_type": "code",
   "execution_count": 17,
   "id": "b2906497-cf2a-47a5-919a-eeb1da8a37ed",
   "metadata": {},
   "outputs": [
    {
     "data": {
      "text/html": [
       "<div>\n",
       "<style scoped>\n",
       "    .dataframe tbody tr th:only-of-type {\n",
       "        vertical-align: middle;\n",
       "    }\n",
       "\n",
       "    .dataframe tbody tr th {\n",
       "        vertical-align: top;\n",
       "    }\n",
       "\n",
       "    .dataframe thead th {\n",
       "        text-align: right;\n",
       "    }\n",
       "</style>\n",
       "<table border=\"1\" class=\"dataframe\">\n",
       "  <thead>\n",
       "    <tr style=\"text-align: right;\">\n",
       "      <th></th>\n",
       "      <th>Unnamed: 0</th>\n",
       "      <th>Pincode</th>\n",
       "    </tr>\n",
       "  </thead>\n",
       "  <tbody>\n",
       "    <tr>\n",
       "      <th>count</th>\n",
       "      <td>1348.000000</td>\n",
       "      <td>1347.000000</td>\n",
       "    </tr>\n",
       "    <tr>\n",
       "      <th>mean</th>\n",
       "      <td>673.500000</td>\n",
       "      <td>456418.442465</td>\n",
       "    </tr>\n",
       "    <tr>\n",
       "      <th>std</th>\n",
       "      <td>389.278392</td>\n",
       "      <td>174831.912834</td>\n",
       "    </tr>\n",
       "    <tr>\n",
       "      <th>min</th>\n",
       "      <td>0.000000</td>\n",
       "      <td>110002.000000</td>\n",
       "    </tr>\n",
       "    <tr>\n",
       "      <th>25%</th>\n",
       "      <td>336.750000</td>\n",
       "      <td>380061.000000</td>\n",
       "    </tr>\n",
       "    <tr>\n",
       "      <th>50%</th>\n",
       "      <td>673.500000</td>\n",
       "      <td>500001.000000</td>\n",
       "    </tr>\n",
       "    <tr>\n",
       "      <th>75%</th>\n",
       "      <td>1010.250000</td>\n",
       "      <td>584115.000000</td>\n",
       "    </tr>\n",
       "    <tr>\n",
       "      <th>max</th>\n",
       "      <td>1347.000000</td>\n",
       "      <td>834009.000000</td>\n",
       "    </tr>\n",
       "  </tbody>\n",
       "</table>\n",
       "</div>"
      ],
      "text/plain": [
       "        Unnamed: 0        Pincode\n",
       "count  1348.000000    1347.000000\n",
       "mean    673.500000  456418.442465\n",
       "std     389.278392  174831.912834\n",
       "min       0.000000  110002.000000\n",
       "25%     336.750000  380061.000000\n",
       "50%     673.500000  500001.000000\n",
       "75%    1010.250000  584115.000000\n",
       "max    1347.000000  834009.000000"
      ]
     },
     "execution_count": 17,
     "metadata": {},
     "output_type": "execute_result"
    }
   ],
   "source": [
    "# describe it use to print only numarics\n",
    "df.describe()"
   ]
  },
  {
   "cell_type": "markdown",
   "id": "f89b6b3c-0a28-420b-9204-824f247f6ea4",
   "metadata": {},
   "source": [
    "# About info()\n",
    "### Index Range\n",
    "- The range of indices in the DataFrame (e.g., RangeIndex: 5 entries, 0 to 4).\n",
    "### Column Summary\n",
    "- Lists each column by name.\n",
    "- Shows the number of non-null values in each column (Non-Null Count).\n",
    "- Displays the data type of each column (Dtype).\n",
    "### Data Types\n",
    "- Common types include int64, float64, object (strings), datetime64, and bool.\n",
    "### Memory Usage\n",
    "- Displays the approximate memory consumption of the DataFrame.\n"
   ]
  },
  {
   "cell_type": "code",
   "execution_count": 19,
   "id": "ae6bf167-791f-4d98-83f4-fec1d18c236a",
   "metadata": {},
   "outputs": [
    {
     "name": "stdout",
     "output_type": "stream",
     "text": [
      "<class 'pandas.core.frame.DataFrame'>\n",
      "RangeIndex: 1348 entries, 0 to 1347\n",
      "Data columns (total 6 columns):\n",
      " #   Column        Non-Null Count  Dtype  \n",
      "---  ------        --------------  -----  \n",
      " 0   Unnamed: 0    1348 non-null   int64  \n",
      " 1   Hospital      1348 non-null   object \n",
      " 2   State         1348 non-null   object \n",
      " 3   City          1348 non-null   object \n",
      " 4   LocalAddress  1348 non-null   object \n",
      " 5   Pincode       1347 non-null   float64\n",
      "dtypes: float64(1), int64(1), object(4)\n",
      "memory usage: 63.3+ KB\n"
     ]
    }
   ],
   "source": [
    "# info is to look at data type ,missing values and data size and data frame\n",
    "df.info()"
   ]
  },
  {
   "cell_type": "code",
   "execution_count": 21,
   "id": "5b495925-283d-44e8-a1d2-493490201705",
   "metadata": {},
   "outputs": [
    {
     "name": "stdout",
     "output_type": "stream",
     "text": [
      "(1348, 6)\n",
      "1348\n",
      "6\n"
     ]
    }
   ],
   "source": [
    "print(df.shape) # total rows and columns\n",
    "print(df.shape[0]) # no of rows\n",
    "print(df.shape[1]) # no of columns"
   ]
  },
  {
   "cell_type": "markdown",
   "id": "03b47a61-1bc0-4280-8896-cf078d96d4a9",
   "metadata": {},
   "source": [
    "### About column\n",
    "- columns represent the vertical axis of a DataFrame, and each column corresponds to a single variable or feature in the dataset.\n",
    "- Columns can store different types of data, such as numeric, textual, datetime, or boolean.\n",
    "\n",
    "\n"
   ]
  },
  {
   "cell_type": "code",
   "execution_count": 23,
   "id": "b5d9eaeb-bb10-437f-8c63-65aea32f8613",
   "metadata": {},
   "outputs": [
    {
     "data": {
      "text/plain": [
       "Index(['Unnamed: 0', 'Hospital', 'State', 'City', 'LocalAddress', 'Pincode'], dtype='object')"
      ]
     },
     "execution_count": 23,
     "metadata": {},
     "output_type": "execute_result"
    }
   ],
   "source": [
    "# Column  is used to get only column names\n",
    "df.columns"
   ]
  },
  {
   "cell_type": "code",
   "execution_count": 25,
   "id": "0a0df1b4-44bc-48f1-a3af-351e77a6742f",
   "metadata": {},
   "outputs": [
    {
     "data": {
      "text/plain": [
       "['Unnamed: 0', 'Hospital', 'State', 'City', 'LocalAddress', 'Pincode']"
      ]
     },
     "execution_count": 25,
     "metadata": {},
     "output_type": "execute_result"
    }
   ],
   "source": [
    "list(df.columns)"
   ]
  },
  {
   "cell_type": "markdown",
   "id": "6238d40e-0a41-494d-96c8-3756da29c963",
   "metadata": {},
   "source": [
    "### About nlargest\n",
    "- the nlargest() method is used to retrieve the n largest values from a DataFrame or Series based on a specific column.\n",
    "- This method is particularly useful when you want to quickly identify the top n records according to a certain variable (e.g., top 5 highest sales, top 3 highest scores, etc.)."
   ]
  },
  {
   "cell_type": "code",
   "execution_count": 27,
   "id": "99947bad-802f-4821-9a6e-1a4223731069",
   "metadata": {},
   "outputs": [
    {
     "data": {
      "text/html": [
       "<div>\n",
       "<style scoped>\n",
       "    .dataframe tbody tr th:only-of-type {\n",
       "        vertical-align: middle;\n",
       "    }\n",
       "\n",
       "    .dataframe tbody tr th {\n",
       "        vertical-align: top;\n",
       "    }\n",
       "\n",
       "    .dataframe thead th {\n",
       "        text-align: right;\n",
       "    }\n",
       "</style>\n",
       "<table border=\"1\" class=\"dataframe\">\n",
       "  <thead>\n",
       "    <tr style=\"text-align: right;\">\n",
       "      <th></th>\n",
       "      <th>Unnamed: 0</th>\n",
       "      <th>Hospital</th>\n",
       "      <th>State</th>\n",
       "      <th>City</th>\n",
       "      <th>LocalAddress</th>\n",
       "      <th>Pincode</th>\n",
       "    </tr>\n",
       "  </thead>\n",
       "  <tbody>\n",
       "    <tr>\n",
       "      <th>195</th>\n",
       "      <td>195</td>\n",
       "      <td>Alam Hospital &amp; Research Centre</td>\n",
       "      <td>Jharkhand</td>\n",
       "      <td>Ranchi</td>\n",
       "      <td>Booty Road, Bariatu.</td>\n",
       "      <td>834009.0</td>\n",
       "    </tr>\n",
       "    <tr>\n",
       "      <th>469</th>\n",
       "      <td>469</td>\n",
       "      <td>Asarfi Hospital Pvt Ltd</td>\n",
       "      <td>Jharkhand</td>\n",
       "      <td>Dhanbad</td>\n",
       "      <td>At Baramuri Po,Bishanpur,Dhanbad</td>\n",
       "      <td>828130.0</td>\n",
       "    </tr>\n",
       "    <tr>\n",
       "      <th>72</th>\n",
       "      <td>72</td>\n",
       "      <td>Abhinandan Hospital</td>\n",
       "      <td>Bihar</td>\n",
       "      <td>Patna</td>\n",
       "      <td>0/60, Doctors Colony, Kankar Baga</td>\n",
       "      <td>800020.0</td>\n",
       "    </tr>\n",
       "    <tr>\n",
       "      <th>4</th>\n",
       "      <td>4</td>\n",
       "      <td>A.B.Eye Institute</td>\n",
       "      <td>Bihar</td>\n",
       "      <td>Patna</td>\n",
       "      <td>Road No.12, Rajendra Nagar, Patna, Bihar-800016</td>\n",
       "      <td>800016.0</td>\n",
       "    </tr>\n",
       "    <tr>\n",
       "      <th>464</th>\n",
       "      <td>464</td>\n",
       "      <td>Arvind Hospital Pvt Ltd</td>\n",
       "      <td>Bihar</td>\n",
       "      <td>Patna</td>\n",
       "      <td>Ashok Rajpath,Opp.Pmch,</td>\n",
       "      <td>800004.0</td>\n",
       "    </tr>\n",
       "  </tbody>\n",
       "</table>\n",
       "</div>"
      ],
      "text/plain": [
       "     Unnamed: 0                         Hospital      State     City  \\\n",
       "195         195  Alam Hospital & Research Centre  Jharkhand   Ranchi   \n",
       "469         469          Asarfi Hospital Pvt Ltd  Jharkhand  Dhanbad   \n",
       "72           72              Abhinandan Hospital      Bihar    Patna   \n",
       "4             4                A.B.Eye Institute      Bihar    Patna   \n",
       "464         464          Arvind Hospital Pvt Ltd      Bihar    Patna   \n",
       "\n",
       "                                        LocalAddress   Pincode  \n",
       "195                             Booty Road, Bariatu.  834009.0  \n",
       "469                 At Baramuri Po,Bishanpur,Dhanbad  828130.0  \n",
       "72                 0/60, Doctors Colony, Kankar Baga  800020.0  \n",
       "4    Road No.12, Rajendra Nagar, Patna, Bihar-800016  800016.0  \n",
       "464                          Ashok Rajpath,Opp.Pmch,  800004.0  "
      ]
     },
     "execution_count": 27,
     "metadata": {},
     "output_type": "execute_result"
    }
   ],
   "source": [
    "df.nlargest(5,'Pincode')"
   ]
  },
  {
   "cell_type": "markdown",
   "id": "c89e241b-e5a9-4d59-a341-f195efc77796",
   "metadata": {},
   "source": [
    "### About isnull()\n",
    "- the isnull() method is used to detect missing or null values in a DataFrame or Series.\n",
    "- It returns a boolean DataFrame or Series of the same shape, where True indicates that the corresponding value is null (i.e., NaN, None, or missing), and False indicates that the value is not null."
   ]
  },
  {
   "cell_type": "code",
   "execution_count": 29,
   "id": "769a04bb-ac7c-4865-b13d-b5d083c62eb7",
   "metadata": {},
   "outputs": [
    {
     "data": {
      "text/html": [
       "<div>\n",
       "<style scoped>\n",
       "    .dataframe tbody tr th:only-of-type {\n",
       "        vertical-align: middle;\n",
       "    }\n",
       "\n",
       "    .dataframe tbody tr th {\n",
       "        vertical-align: top;\n",
       "    }\n",
       "\n",
       "    .dataframe thead th {\n",
       "        text-align: right;\n",
       "    }\n",
       "</style>\n",
       "<table border=\"1\" class=\"dataframe\">\n",
       "  <thead>\n",
       "    <tr style=\"text-align: right;\">\n",
       "      <th></th>\n",
       "      <th>Unnamed: 0</th>\n",
       "      <th>Hospital</th>\n",
       "      <th>State</th>\n",
       "      <th>City</th>\n",
       "      <th>LocalAddress</th>\n",
       "      <th>Pincode</th>\n",
       "    </tr>\n",
       "  </thead>\n",
       "  <tbody>\n",
       "    <tr>\n",
       "      <th>0</th>\n",
       "      <td>False</td>\n",
       "      <td>False</td>\n",
       "      <td>False</td>\n",
       "      <td>False</td>\n",
       "      <td>False</td>\n",
       "      <td>False</td>\n",
       "    </tr>\n",
       "    <tr>\n",
       "      <th>1</th>\n",
       "      <td>False</td>\n",
       "      <td>False</td>\n",
       "      <td>False</td>\n",
       "      <td>False</td>\n",
       "      <td>False</td>\n",
       "      <td>False</td>\n",
       "    </tr>\n",
       "    <tr>\n",
       "      <th>2</th>\n",
       "      <td>False</td>\n",
       "      <td>False</td>\n",
       "      <td>False</td>\n",
       "      <td>False</td>\n",
       "      <td>False</td>\n",
       "      <td>False</td>\n",
       "    </tr>\n",
       "    <tr>\n",
       "      <th>3</th>\n",
       "      <td>False</td>\n",
       "      <td>False</td>\n",
       "      <td>False</td>\n",
       "      <td>False</td>\n",
       "      <td>False</td>\n",
       "      <td>False</td>\n",
       "    </tr>\n",
       "    <tr>\n",
       "      <th>4</th>\n",
       "      <td>False</td>\n",
       "      <td>False</td>\n",
       "      <td>False</td>\n",
       "      <td>False</td>\n",
       "      <td>False</td>\n",
       "      <td>False</td>\n",
       "    </tr>\n",
       "    <tr>\n",
       "      <th>...</th>\n",
       "      <td>...</td>\n",
       "      <td>...</td>\n",
       "      <td>...</td>\n",
       "      <td>...</td>\n",
       "      <td>...</td>\n",
       "      <td>...</td>\n",
       "    </tr>\n",
       "    <tr>\n",
       "      <th>1343</th>\n",
       "      <td>False</td>\n",
       "      <td>False</td>\n",
       "      <td>False</td>\n",
       "      <td>False</td>\n",
       "      <td>False</td>\n",
       "      <td>False</td>\n",
       "    </tr>\n",
       "    <tr>\n",
       "      <th>1344</th>\n",
       "      <td>False</td>\n",
       "      <td>False</td>\n",
       "      <td>False</td>\n",
       "      <td>False</td>\n",
       "      <td>False</td>\n",
       "      <td>False</td>\n",
       "    </tr>\n",
       "    <tr>\n",
       "      <th>1345</th>\n",
       "      <td>False</td>\n",
       "      <td>False</td>\n",
       "      <td>False</td>\n",
       "      <td>False</td>\n",
       "      <td>False</td>\n",
       "      <td>False</td>\n",
       "    </tr>\n",
       "    <tr>\n",
       "      <th>1346</th>\n",
       "      <td>False</td>\n",
       "      <td>False</td>\n",
       "      <td>False</td>\n",
       "      <td>False</td>\n",
       "      <td>False</td>\n",
       "      <td>False</td>\n",
       "    </tr>\n",
       "    <tr>\n",
       "      <th>1347</th>\n",
       "      <td>False</td>\n",
       "      <td>False</td>\n",
       "      <td>False</td>\n",
       "      <td>False</td>\n",
       "      <td>False</td>\n",
       "      <td>False</td>\n",
       "    </tr>\n",
       "  </tbody>\n",
       "</table>\n",
       "<p>1348 rows × 6 columns</p>\n",
       "</div>"
      ],
      "text/plain": [
       "      Unnamed: 0  Hospital  State   City  LocalAddress  Pincode\n",
       "0          False     False  False  False         False    False\n",
       "1          False     False  False  False         False    False\n",
       "2          False     False  False  False         False    False\n",
       "3          False     False  False  False         False    False\n",
       "4          False     False  False  False         False    False\n",
       "...          ...       ...    ...    ...           ...      ...\n",
       "1343       False     False  False  False         False    False\n",
       "1344       False     False  False  False         False    False\n",
       "1345       False     False  False  False         False    False\n",
       "1346       False     False  False  False         False    False\n",
       "1347       False     False  False  False         False    False\n",
       "\n",
       "[1348 rows x 6 columns]"
      ]
     },
     "execution_count": 29,
     "metadata": {},
     "output_type": "execute_result"
    }
   ],
   "source": [
    "# isnull is used to find missing values\n",
    "df.isnull()"
   ]
  },
  {
   "cell_type": "markdown",
   "id": "72c852ce-707e-4532-9093-0dce54d860fe",
   "metadata": {},
   "source": [
    "### About isnull().any()\n",
    "- to identify the any null values present in any column\n",
    "- the null is presented it shows true."
   ]
  },
  {
   "cell_type": "code",
   "execution_count": 31,
   "id": "e54b2d40-9842-4ffe-bf10-833d6ba1570c",
   "metadata": {},
   "outputs": [
    {
     "data": {
      "text/plain": [
       "Unnamed: 0      False\n",
       "Hospital        False\n",
       "State           False\n",
       "City            False\n",
       "LocalAddress    False\n",
       "Pincode          True\n",
       "dtype: bool"
      ]
     },
     "execution_count": 31,
     "metadata": {},
     "output_type": "execute_result"
    }
   ],
   "source": [
    "# isnull().any() to find which column contain null values \n",
    "df.isnull().any()"
   ]
  },
  {
   "cell_type": "code",
   "execution_count": 33,
   "id": "4affba7f-5052-4e43-b004-9b0208386484",
   "metadata": {},
   "outputs": [
    {
     "data": {
      "text/plain": [
       "Unnamed: 0      0\n",
       "Hospital        0\n",
       "State           0\n",
       "City            0\n",
       "LocalAddress    0\n",
       "Pincode         1\n",
       "dtype: int64"
      ]
     },
     "execution_count": 33,
     "metadata": {},
     "output_type": "execute_result"
    }
   ],
   "source": [
    "# to find no of null values in data \n",
    "df.isnull().sum()"
   ]
  },
  {
   "cell_type": "code",
   "execution_count": 35,
   "id": "9a9655d1-69c5-45cb-aa5a-ed6a170882dd",
   "metadata": {},
   "outputs": [
    {
     "data": {
      "text/html": [
       "<div>\n",
       "<style scoped>\n",
       "    .dataframe tbody tr th:only-of-type {\n",
       "        vertical-align: middle;\n",
       "    }\n",
       "\n",
       "    .dataframe tbody tr th {\n",
       "        vertical-align: top;\n",
       "    }\n",
       "\n",
       "    .dataframe thead th {\n",
       "        text-align: right;\n",
       "    }\n",
       "</style>\n",
       "<table border=\"1\" class=\"dataframe\">\n",
       "  <thead>\n",
       "    <tr style=\"text-align: right;\">\n",
       "      <th></th>\n",
       "      <th>Unnamed: 0</th>\n",
       "      <th>Hospital</th>\n",
       "      <th>State</th>\n",
       "      <th>City</th>\n",
       "      <th>LocalAddress</th>\n",
       "      <th>Pincode</th>\n",
       "    </tr>\n",
       "  </thead>\n",
       "  <tbody>\n",
       "    <tr>\n",
       "      <th>1139</th>\n",
       "      <td>1139</td>\n",
       "      <td>Deep Nursing Home</td>\n",
       "      <td>Punjab</td>\n",
       "      <td>Barnala</td>\n",
       "      <td>Collage Road Barnala-148101</td>\n",
       "      <td>NaN</td>\n",
       "    </tr>\n",
       "  </tbody>\n",
       "</table>\n",
       "</div>"
      ],
      "text/plain": [
       "      Unnamed: 0           Hospital   State     City  \\\n",
       "1139        1139  Deep Nursing Home  Punjab  Barnala   \n",
       "\n",
       "                     LocalAddress  Pincode  \n",
       "1139  Collage Road Barnala-148101      NaN  "
      ]
     },
     "execution_count": 35,
     "metadata": {},
     "output_type": "execute_result"
    }
   ],
   "source": [
    "# to find the null value position \n",
    "df[df.isnull().any(axis=1)]"
   ]
  },
  {
   "cell_type": "code",
   "execution_count": 37,
   "id": "2359e446-80b8-4b5f-9cd7-32a4fbb3a682",
   "metadata": {},
   "outputs": [
    {
     "data": {
      "text/plain": [
       "0    635110.0\n",
       "1    600023.0\n",
       "2    401107.0\n",
       "3    110063.0\n",
       "4    800016.0\n",
       "Name: Pincode, dtype: float64"
      ]
     },
     "execution_count": 37,
     "metadata": {},
     "output_type": "execute_result"
    }
   ],
   "source": [
    "# to isolate one column using []\n",
    "df['Pincode'].head(5)"
   ]
  },
  {
   "cell_type": "code",
   "execution_count": 170,
   "id": "ece93b4a-635d-422b-80f6-e306838f9a5f",
   "metadata": {},
   "outputs": [
    {
     "data": {
      "text/html": [
       "<div>\n",
       "<style scoped>\n",
       "    .dataframe tbody tr th:only-of-type {\n",
       "        vertical-align: middle;\n",
       "    }\n",
       "\n",
       "    .dataframe tbody tr th {\n",
       "        vertical-align: top;\n",
       "    }\n",
       "\n",
       "    .dataframe thead th {\n",
       "        text-align: right;\n",
       "    }\n",
       "</style>\n",
       "<table border=\"1\" class=\"dataframe\">\n",
       "  <thead>\n",
       "    <tr style=\"text-align: right;\">\n",
       "      <th></th>\n",
       "      <th>Pincode</th>\n",
       "      <th>City</th>\n",
       "    </tr>\n",
       "  </thead>\n",
       "  <tbody>\n",
       "    <tr>\n",
       "      <th>0</th>\n",
       "      <td>635110.0</td>\n",
       "      <td>Hosur</td>\n",
       "    </tr>\n",
       "    <tr>\n",
       "      <th>1</th>\n",
       "      <td>600023.0</td>\n",
       "      <td>Chennai</td>\n",
       "    </tr>\n",
       "    <tr>\n",
       "      <th>2</th>\n",
       "      <td>401107.0</td>\n",
       "      <td>Mumbai</td>\n",
       "    </tr>\n",
       "    <tr>\n",
       "      <th>3</th>\n",
       "      <td>110063.0</td>\n",
       "      <td>Delhi</td>\n",
       "    </tr>\n",
       "    <tr>\n",
       "      <th>4</th>\n",
       "      <td>800016.0</td>\n",
       "      <td>Patna</td>\n",
       "    </tr>\n",
       "    <tr>\n",
       "      <th>5</th>\n",
       "      <td>636001.0</td>\n",
       "      <td>Salem</td>\n",
       "    </tr>\n",
       "    <tr>\n",
       "      <th>6</th>\n",
       "      <td>600004.0</td>\n",
       "      <td>Chennai</td>\n",
       "    </tr>\n",
       "    <tr>\n",
       "      <th>7</th>\n",
       "      <td>641601.0</td>\n",
       "      <td>Coimbatore</td>\n",
       "    </tr>\n",
       "    <tr>\n",
       "      <th>8</th>\n",
       "      <td>605110.0</td>\n",
       "      <td>Pondicherry</td>\n",
       "    </tr>\n",
       "    <tr>\n",
       "      <th>9</th>\n",
       "      <td>695582.0</td>\n",
       "      <td>Trivandrum</td>\n",
       "    </tr>\n",
       "  </tbody>\n",
       "</table>\n",
       "</div>"
      ],
      "text/plain": [
       "    Pincode         City\n",
       "0  635110.0        Hosur\n",
       "1  600023.0      Chennai\n",
       "2  401107.0       Mumbai\n",
       "3  110063.0        Delhi\n",
       "4  800016.0        Patna\n",
       "5  636001.0        Salem\n",
       "6  600004.0      Chennai\n",
       "7  641601.0   Coimbatore\n",
       "8  605110.0  Pondicherry\n",
       "9  695582.0   Trivandrum"
      ]
     },
     "execution_count": 170,
     "metadata": {},
     "output_type": "execute_result"
    }
   ],
   "source": [
    "# isolate two or more values in columns using [[ ]]\n",
    "df[['Pincode','City']].head(10)"
   ]
  },
  {
   "cell_type": "code",
   "execution_count": 39,
   "id": "d2485672-8870-49a8-b1ed-4d50b855b183",
   "metadata": {},
   "outputs": [
    {
     "data": {
      "text/html": [
       "<div>\n",
       "<style scoped>\n",
       "    .dataframe tbody tr th:only-of-type {\n",
       "        vertical-align: middle;\n",
       "    }\n",
       "\n",
       "    .dataframe tbody tr th {\n",
       "        vertical-align: top;\n",
       "    }\n",
       "\n",
       "    .dataframe thead th {\n",
       "        text-align: right;\n",
       "    }\n",
       "</style>\n",
       "<table border=\"1\" class=\"dataframe\">\n",
       "  <thead>\n",
       "    <tr style=\"text-align: right;\">\n",
       "      <th></th>\n",
       "      <th>Unnamed: 0</th>\n",
       "      <th>Hospital</th>\n",
       "      <th>State</th>\n",
       "      <th>City</th>\n",
       "      <th>LocalAddress</th>\n",
       "      <th>Pincode</th>\n",
       "    </tr>\n",
       "  </thead>\n",
       "  <tbody>\n",
       "    <tr>\n",
       "      <th>5</th>\n",
       "      <td>5</td>\n",
       "      <td>A.C. Hospital</td>\n",
       "      <td>Tamilnadu</td>\n",
       "      <td>Salem</td>\n",
       "      <td>201,2Nd Agraharam</td>\n",
       "      <td>636001.0</td>\n",
       "    </tr>\n",
       "  </tbody>\n",
       "</table>\n",
       "</div>"
      ],
      "text/plain": [
       "   Unnamed: 0       Hospital      State   City       LocalAddress   Pincode\n",
       "5           5  A.C. Hospital  Tamilnadu  Salem  201,2Nd Agraharam  636001.0"
      ]
     },
     "execution_count": 39,
     "metadata": {},
     "output_type": "execute_result"
    }
   ],
   "source": [
    "# Accessing any row using []\n",
    "df[df.index==5]"
   ]
  },
  {
   "cell_type": "code",
   "execution_count": 41,
   "id": "c7e04857-2fbb-4f76-b6ba-d92d15907c62",
   "metadata": {},
   "outputs": [
    {
     "data": {
      "text/plain": [
       "Unnamed: 0                      5\n",
       "Hospital            A.C. Hospital\n",
       "State                   Tamilnadu\n",
       "City                        Salem\n",
       "LocalAddress    201,2Nd Agraharam\n",
       "Pincode                  636001.0\n",
       "Name: 5, dtype: object"
      ]
     },
     "execution_count": 41,
     "metadata": {},
     "output_type": "execute_result"
    }
   ],
   "source": [
    "# finding loacation\n",
    "df.loc[5]"
   ]
  },
  {
   "cell_type": "code",
   "execution_count": 43,
   "id": "497c8740-3259-4fb3-9d83-207eb4345ec3",
   "metadata": {},
   "outputs": [
    {
     "data": {
      "text/html": [
       "<div>\n",
       "<style scoped>\n",
       "    .dataframe tbody tr th:only-of-type {\n",
       "        vertical-align: middle;\n",
       "    }\n",
       "\n",
       "    .dataframe tbody tr th {\n",
       "        vertical-align: top;\n",
       "    }\n",
       "\n",
       "    .dataframe thead th {\n",
       "        text-align: right;\n",
       "    }\n",
       "</style>\n",
       "<table border=\"1\" class=\"dataframe\">\n",
       "  <thead>\n",
       "    <tr style=\"text-align: right;\">\n",
       "      <th></th>\n",
       "      <th>Unnamed: 0</th>\n",
       "      <th>Hospital</th>\n",
       "      <th>State</th>\n",
       "      <th>City</th>\n",
       "      <th>LocalAddress</th>\n",
       "      <th>Pincode</th>\n",
       "    </tr>\n",
       "  </thead>\n",
       "  <tbody>\n",
       "    <tr>\n",
       "      <th>1</th>\n",
       "      <td>1</td>\n",
       "      <td>A C Hospital</td>\n",
       "      <td>Tamilnadu</td>\n",
       "      <td>Chennai</td>\n",
       "      <td>No-8, 3Rd Main Road, United India Nagar, Ayana...</td>\n",
       "      <td>600023.0</td>\n",
       "    </tr>\n",
       "    <tr>\n",
       "      <th>2</th>\n",
       "      <td>2</td>\n",
       "      <td>A-Care Orthopaedic &amp; General Hospital</td>\n",
       "      <td>Maharashtra</td>\n",
       "      <td>Mumbai</td>\n",
       "      <td>G-1, Giriraj Tower, Sai Baba Nagar, Mira Bhaya...</td>\n",
       "      <td>401107.0</td>\n",
       "    </tr>\n",
       "    <tr>\n",
       "      <th>3</th>\n",
       "      <td>3</td>\n",
       "      <td>A-One Hospital Pvt Ltd</td>\n",
       "      <td>Delhi</td>\n",
       "      <td>Delhi</td>\n",
       "      <td>A-1/7, Panchim Vihar, Rohtak Road, New Delhi-1...</td>\n",
       "      <td>110063.0</td>\n",
       "    </tr>\n",
       "    <tr>\n",
       "      <th>4</th>\n",
       "      <td>4</td>\n",
       "      <td>A.B.Eye Institute</td>\n",
       "      <td>Bihar</td>\n",
       "      <td>Patna</td>\n",
       "      <td>Road No.12, Rajendra Nagar, Patna, Bihar-800016</td>\n",
       "      <td>800016.0</td>\n",
       "    </tr>\n",
       "    <tr>\n",
       "      <th>5</th>\n",
       "      <td>5</td>\n",
       "      <td>A.C. Hospital</td>\n",
       "      <td>Tamilnadu</td>\n",
       "      <td>Salem</td>\n",
       "      <td>201,2Nd Agraharam</td>\n",
       "      <td>636001.0</td>\n",
       "    </tr>\n",
       "    <tr>\n",
       "      <th>6</th>\n",
       "      <td>6</td>\n",
       "      <td>A.G. Eye Care Hospitals (U Nit Of Dr. A.G. Eye...</td>\n",
       "      <td>Tamilnadu</td>\n",
       "      <td>Chennai</td>\n",
       "      <td>No. 106, R.K. Mutt Road. Mylapore, Chennai, Ta...</td>\n",
       "      <td>600004.0</td>\n",
       "    </tr>\n",
       "    <tr>\n",
       "      <th>7</th>\n",
       "      <td>7</td>\n",
       "      <td>A.G. Hospital</td>\n",
       "      <td>Tamilnadu</td>\n",
       "      <td>Coimbatore</td>\n",
       "      <td>34, Kpn Colony 3Rd Street, Tirupur</td>\n",
       "      <td>641601.0</td>\n",
       "    </tr>\n",
       "    <tr>\n",
       "      <th>8</th>\n",
       "      <td>8</td>\n",
       "      <td>A.G. Padmavati'S Hospital Ltd.</td>\n",
       "      <td>Tamilnadu</td>\n",
       "      <td>Pondicherry</td>\n",
       "      <td>R.S. No.127/A, Villianur Main Road, Arumpartha...</td>\n",
       "      <td>605110.0</td>\n",
       "    </tr>\n",
       "    <tr>\n",
       "      <th>9</th>\n",
       "      <td>9</td>\n",
       "      <td>A.J. Hospital</td>\n",
       "      <td>Kerala</td>\n",
       "      <td>Trivandrum</td>\n",
       "      <td>Kazhakuttam, P.O., Thiruvananthapuram, Trivand...</td>\n",
       "      <td>695582.0</td>\n",
       "    </tr>\n",
       "  </tbody>\n",
       "</table>\n",
       "</div>"
      ],
      "text/plain": [
       "   Unnamed: 0                                           Hospital        State  \\\n",
       "1           1                                       A C Hospital    Tamilnadu   \n",
       "2           2              A-Care Orthopaedic & General Hospital  Maharashtra   \n",
       "3           3                             A-One Hospital Pvt Ltd        Delhi   \n",
       "4           4                                  A.B.Eye Institute        Bihar   \n",
       "5           5                                      A.C. Hospital    Tamilnadu   \n",
       "6           6  A.G. Eye Care Hospitals (U Nit Of Dr. A.G. Eye...    Tamilnadu   \n",
       "7           7                                      A.G. Hospital    Tamilnadu   \n",
       "8           8                     A.G. Padmavati'S Hospital Ltd.    Tamilnadu   \n",
       "9           9                                      A.J. Hospital       Kerala   \n",
       "\n",
       "          City                                       LocalAddress   Pincode  \n",
       "1      Chennai  No-8, 3Rd Main Road, United India Nagar, Ayana...  600023.0  \n",
       "2       Mumbai  G-1, Giriraj Tower, Sai Baba Nagar, Mira Bhaya...  401107.0  \n",
       "3        Delhi  A-1/7, Panchim Vihar, Rohtak Road, New Delhi-1...  110063.0  \n",
       "4        Patna    Road No.12, Rajendra Nagar, Patna, Bihar-800016  800016.0  \n",
       "5        Salem                                  201,2Nd Agraharam  636001.0  \n",
       "6      Chennai  No. 106, R.K. Mutt Road. Mylapore, Chennai, Ta...  600004.0  \n",
       "7   Coimbatore                 34, Kpn Colony 3Rd Street, Tirupur  641601.0  \n",
       "8  Pondicherry  R.S. No.127/A, Villianur Main Road, Arumpartha...  605110.0  \n",
       "9   Trivandrum  Kazhakuttam, P.O., Thiruvananthapuram, Trivand...  695582.0  "
      ]
     },
     "execution_count": 43,
     "metadata": {},
     "output_type": "execute_result"
    }
   ],
   "source": [
    "#isolating two or more rows by using .isin()\n",
    "df[df.index.isin(range(1,10))]"
   ]
  },
  {
   "cell_type": "code",
   "execution_count": 45,
   "id": "9bd6c2d6-9261-4063-bb30-9e291993ad46",
   "metadata": {},
   "outputs": [
    {
     "data": {
      "text/plain": [
       "array([[0, 'A A Hospital', 'Tamilnadu', 'Hosur',\n",
       "        'Denkani Kottai Road Mathigiri', 635110.0],\n",
       "       [1, 'A C Hospital', 'Tamilnadu', 'Chennai',\n",
       "        'No-8, 3Rd Main Road, United India Nagar, Ayanavaram, Chennai-600023',\n",
       "        600023.0],\n",
       "       [2, 'A-Care Orthopaedic & General Hospital', 'Maharashtra',\n",
       "        'Mumbai',\n",
       "        'G-1, Giriraj Tower, Sai Baba Nagar, Mira Bhayander Road, Mira Road.',\n",
       "        401107.0],\n",
       "       ...,\n",
       "       [1345, 'Dr. Manish Patankars Nath Hospital', 'Maharashtra',\n",
       "        'Mumbai',\n",
       "        '101, A-Wing, Golden Havens Apartments, Kolbad Road, Khopat, Thana West-400601',\n",
       "        400601.0],\n",
       "       [1346, 'Dr. Manohara Sai Gowda Memorial Hospital', 'Karnataka',\n",
       "        'Mulbagal', 'Nh-4, Opposite Inspection Bungalow, Mulbagal',\n",
       "        563131.0],\n",
       "       [1347, \"Dr. Mehta'S Multispeciality Hospital Pvt Ltd.\",\n",
       "        'Tamilnadu', 'Chennai',\n",
       "        '2 (E), Mc. Nicholas Road, Chennai, Opposite To Chetpet Police Station.',\n",
       "        600031.0]], dtype=object)"
      ]
     },
     "execution_count": 45,
     "metadata": {},
     "output_type": "execute_result"
    }
   ],
   "source": [
    "# converting data into array by using  \"to\"\n",
    "df.to_numpy()"
   ]
  },
  {
   "cell_type": "code",
   "execution_count": 59,
   "id": "9a7b05da-c819-4d9c-bc3c-3afd64c975a8",
   "metadata": {},
   "outputs": [
    {
     "name": "stdout",
     "output_type": "stream",
     "text": [
      "      Unnamed: 0                                       Hospital        State  \\\n",
      "0              0                                   A A Hospital    Tamilnadu   \n",
      "1              1                                   A C Hospital    Tamilnadu   \n",
      "2              2          A-Care Orthopaedic & General Hospital  Maharashtra   \n",
      "3              3                         A-One Hospital Pvt Ltd        Delhi   \n",
      "4              4                              A.B.Eye Institute        Bihar   \n",
      "...          ...                                            ...          ...   \n",
      "1343        1343                     Dr. Mahesh Rathod Hospital      Gujarat   \n",
      "1344        1344                   Dr. Malathi Manipal Hospital    Karnataka   \n",
      "1345        1345             Dr. Manish Patankars Nath Hospital  Maharashtra   \n",
      "1346        1346       Dr. Manohara Sai Gowda Memorial Hospital    Karnataka   \n",
      "1347        1347  Dr. Mehta'S Multispeciality Hospital Pvt Ltd.    Tamilnadu   \n",
      "\n",
      "           City                                       LocalAddress   Pincode  \n",
      "0         Hosur                      Denkani Kottai Road Mathigiri  635110.0  \n",
      "1       Chennai  No-8, 3Rd Main Road, United India Nagar, Ayana...  600023.0  \n",
      "2        Mumbai  G-1, Giriraj Tower, Sai Baba Nagar, Mira Bhaya...  401107.0  \n",
      "3         Delhi  A-1/7, Panchim Vihar, Rohtak Road, New Delhi-1...  110063.0  \n",
      "4         Patna    Road No.12, Rajendra Nagar, Patna, Bihar-800016  800016.0  \n",
      "...         ...                                                ...       ...  \n",
      "1343     Rajkot           1, Sardarnagar, Nr. Astran Chowk, Rajkot  360001.0  \n",
      "1344  Bangalore  45/1, 45Th Cross, 9Th Block, Jayanagar, Bangal...  560069.0  \n",
      "1345     Mumbai  101, A-Wing, Golden Havens Apartments, Kolbad ...  400601.0  \n",
      "1346   Mulbagal       Nh-4, Opposite Inspection Bungalow, Mulbagal  563131.0  \n",
      "1347    Chennai  2 (E), Mc. Nicholas Road, Chennai, Opposite To...  600031.0  \n",
      "\n",
      "[1348 rows x 6 columns]\n"
     ]
    }
   ],
   "source": [
    "data=df\n",
    "a=data.copy()\n",
    "#(data)\n",
    "print(a)"
   ]
  },
  {
   "cell_type": "markdown",
   "id": "53e6266e-d3bb-4622-bfd9-0af11d684850",
   "metadata": {},
   "source": [
    "## Dealing with missing data techniques\n",
    "### Droping missing values\n"
   ]
  },
  {
   "cell_type": "code",
   "execution_count": 61,
   "id": "9f3b3960-7f73-4dfe-811b-221d129c7464",
   "metadata": {},
   "outputs": [
    {
     "name": "stdout",
     "output_type": "stream",
     "text": [
      "      Unnamed: 0                                       Hospital        State  \\\n",
      "0              0                                   A A Hospital    Tamilnadu   \n",
      "1              1                                   A C Hospital    Tamilnadu   \n",
      "2              2          A-Care Orthopaedic & General Hospital  Maharashtra   \n",
      "3              3                         A-One Hospital Pvt Ltd        Delhi   \n",
      "4              4                              A.B.Eye Institute        Bihar   \n",
      "...          ...                                            ...          ...   \n",
      "1343        1343                     Dr. Mahesh Rathod Hospital      Gujarat   \n",
      "1344        1344                   Dr. Malathi Manipal Hospital    Karnataka   \n",
      "1345        1345             Dr. Manish Patankars Nath Hospital  Maharashtra   \n",
      "1346        1346       Dr. Manohara Sai Gowda Memorial Hospital    Karnataka   \n",
      "1347        1347  Dr. Mehta'S Multispeciality Hospital Pvt Ltd.    Tamilnadu   \n",
      "\n",
      "           City                                       LocalAddress   Pincode  \n",
      "0         Hosur                      Denkani Kottai Road Mathigiri  635110.0  \n",
      "1       Chennai  No-8, 3Rd Main Road, United India Nagar, Ayana...  600023.0  \n",
      "2        Mumbai  G-1, Giriraj Tower, Sai Baba Nagar, Mira Bhaya...  401107.0  \n",
      "3         Delhi  A-1/7, Panchim Vihar, Rohtak Road, New Delhi-1...  110063.0  \n",
      "4         Patna    Road No.12, Rajendra Nagar, Patna, Bihar-800016  800016.0  \n",
      "...         ...                                                ...       ...  \n",
      "1343     Rajkot           1, Sardarnagar, Nr. Astran Chowk, Rajkot  360001.0  \n",
      "1344  Bangalore  45/1, 45Th Cross, 9Th Block, Jayanagar, Bangal...  560069.0  \n",
      "1345     Mumbai  101, A-Wing, Golden Havens Apartments, Kolbad ...  400601.0  \n",
      "1346   Mulbagal       Nh-4, Opposite Inspection Bungalow, Mulbagal  563131.0  \n",
      "1347    Chennai  2 (E), Mc. Nicholas Road, Chennai, Opposite To...  600031.0  \n",
      "\n",
      "[1347 rows x 6 columns]\n"
     ]
    }
   ],
   "source": [
    "a=data.dropna() # is use to remove null values by using this we cam\n",
    "print(a)"
   ]
  },
  {
   "cell_type": "code",
   "execution_count": 71,
   "id": "39efacac-cc5b-441f-8594-dedc38a701d9",
   "metadata": {},
   "outputs": [
    {
     "data": {
      "text/plain": [
       "(1347, 6)"
      ]
     },
     "execution_count": 71,
     "metadata": {},
     "output_type": "execute_result"
    }
   ],
   "source": [
    "a.shape"
   ]
  },
  {
   "cell_type": "code",
   "execution_count": 73,
   "id": "44624d02-4412-48fa-b748-3b7b3ef14811",
   "metadata": {},
   "outputs": [
    {
     "data": {
      "text/plain": [
       "Unnamed: 0      0\n",
       "Hospital        0\n",
       "State           0\n",
       "City            0\n",
       "LocalAddress    0\n",
       "Pincode         0\n",
       "dtype: int64"
      ]
     },
     "execution_count": 73,
     "metadata": {},
     "output_type": "execute_result"
    }
   ],
   "source": [
    "a.isnull().sum() # finding sum of null values after using dropna()"
   ]
  },
  {
   "cell_type": "code",
   "execution_count": 75,
   "id": "6f173581-8cfa-4005-932b-fc36ce736b65",
   "metadata": {},
   "outputs": [
    {
     "name": "stdout",
     "output_type": "stream",
     "text": [
      "Unnamed: 0      0\n",
      "Hospital        0\n",
      "State           0\n",
      "City            0\n",
      "LocalAddress    0\n",
      "Pincode         0\n",
      "dtype: int64\n"
     ]
    },
    {
     "name": "stderr",
     "output_type": "stream",
     "text": [
      "C:\\Users\\Pasha\\AppData\\Local\\Temp\\ipykernel_8988\\2220059363.py:1: SettingWithCopyWarning: \n",
      "A value is trying to be set on a copy of a slice from a DataFrame\n",
      "\n",
      "See the caveats in the documentation: https://pandas.pydata.org/pandas-docs/stable/user_guide/indexing.html#returning-a-view-versus-a-copy\n",
      "  a.dropna(inplace=True,axis=0)\n"
     ]
    }
   ],
   "source": [
    "a.dropna(inplace=True,axis=0)\n",
    "print(a.isnull().sum())"
   ]
  },
  {
   "cell_type": "markdown",
   "id": "a47707ee-0f6c-4cb0-a5f9-21701edee4e7",
   "metadata": {},
   "source": [
    "### Replacing missing values"
   ]
  },
  {
   "cell_type": "code",
   "execution_count": 77,
   "id": "d2a62737-ec0f-45e3-9d90-b71423885f5a",
   "metadata": {},
   "outputs": [
    {
     "name": "stdout",
     "output_type": "stream",
     "text": [
      "456418.44246473646\n"
     ]
    }
   ],
   "source": [
    "mean_value=a['Pincode'].mean() #calculating mean value by the pincode column\n",
    "print(mean_value)"
   ]
  },
  {
   "cell_type": "code",
   "execution_count": 79,
   "id": "f382aa28-6425-45a7-a659-f077ca4c5151",
   "metadata": {},
   "outputs": [
    {
     "name": "stdout",
     "output_type": "stream",
     "text": [
      "      Unnamed: 0                                       Hospital        State  \\\n",
      "0              0                                   A A Hospital    Tamilnadu   \n",
      "1              1                                   A C Hospital    Tamilnadu   \n",
      "2              2          A-Care Orthopaedic & General Hospital  Maharashtra   \n",
      "3              3                         A-One Hospital Pvt Ltd        Delhi   \n",
      "4              4                              A.B.Eye Institute        Bihar   \n",
      "...          ...                                            ...          ...   \n",
      "1343        1343                     Dr. Mahesh Rathod Hospital      Gujarat   \n",
      "1344        1344                   Dr. Malathi Manipal Hospital    Karnataka   \n",
      "1345        1345             Dr. Manish Patankars Nath Hospital  Maharashtra   \n",
      "1346        1346       Dr. Manohara Sai Gowda Memorial Hospital    Karnataka   \n",
      "1347        1347  Dr. Mehta'S Multispeciality Hospital Pvt Ltd.    Tamilnadu   \n",
      "\n",
      "           City                                       LocalAddress   Pincode  \n",
      "0         Hosur                      Denkani Kottai Road Mathigiri  635110.0  \n",
      "1       Chennai  No-8, 3Rd Main Road, United India Nagar, Ayana...  600023.0  \n",
      "2        Mumbai  G-1, Giriraj Tower, Sai Baba Nagar, Mira Bhaya...  401107.0  \n",
      "3         Delhi  A-1/7, Panchim Vihar, Rohtak Road, New Delhi-1...  110063.0  \n",
      "4         Patna    Road No.12, Rajendra Nagar, Patna, Bihar-800016  800016.0  \n",
      "...         ...                                                ...       ...  \n",
      "1343     Rajkot           1, Sardarnagar, Nr. Astran Chowk, Rajkot  360001.0  \n",
      "1344  Bangalore  45/1, 45Th Cross, 9Th Block, Jayanagar, Bangal...  560069.0  \n",
      "1345     Mumbai  101, A-Wing, Golden Havens Apartments, Kolbad ...  400601.0  \n",
      "1346   Mulbagal       Nh-4, Opposite Inspection Bungalow, Mulbagal  563131.0  \n",
      "1347    Chennai  2 (E), Mc. Nicholas Road, Chennai, Opposite To...  600031.0  \n",
      "\n",
      "[1348 rows x 6 columns]\n"
     ]
    }
   ],
   "source": [
    "b = df.fillna(mean_value)\n",
    "print(df)"
   ]
  },
  {
   "cell_type": "code",
   "execution_count": 81,
   "id": "750e0528-0241-4e6a-9b09-313289a1d9f2",
   "metadata": {},
   "outputs": [
    {
     "data": {
      "text/plain": [
       "(1348, 6)"
      ]
     },
     "execution_count": 81,
     "metadata": {},
     "output_type": "execute_result"
    }
   ],
   "source": [
    "b.shape"
   ]
  },
  {
   "cell_type": "code",
   "execution_count": 83,
   "id": "f0cbbbb1-2329-4c97-80bb-1d46dda34eb2",
   "metadata": {},
   "outputs": [
    {
     "data": {
      "text/html": [
       "<div>\n",
       "<style scoped>\n",
       "    .dataframe tbody tr th:only-of-type {\n",
       "        vertical-align: middle;\n",
       "    }\n",
       "\n",
       "    .dataframe tbody tr th {\n",
       "        vertical-align: top;\n",
       "    }\n",
       "\n",
       "    .dataframe thead th {\n",
       "        text-align: right;\n",
       "    }\n",
       "</style>\n",
       "<table border=\"1\" class=\"dataframe\">\n",
       "  <thead>\n",
       "    <tr style=\"text-align: right;\">\n",
       "      <th></th>\n",
       "      <th>Unnamed: 0</th>\n",
       "      <th>Hospital</th>\n",
       "      <th>State</th>\n",
       "      <th>City</th>\n",
       "      <th>LocalAddress</th>\n",
       "      <th>Pincode</th>\n",
       "    </tr>\n",
       "  </thead>\n",
       "  <tbody>\n",
       "    <tr>\n",
       "      <th>1139</th>\n",
       "      <td>1139</td>\n",
       "      <td>Deep Nursing Home</td>\n",
       "      <td>Punjab</td>\n",
       "      <td>Barnala</td>\n",
       "      <td>Collage Road Barnala-148101</td>\n",
       "      <td>NaN</td>\n",
       "    </tr>\n",
       "  </tbody>\n",
       "</table>\n",
       "</div>"
      ],
      "text/plain": [
       "      Unnamed: 0           Hospital   State     City  \\\n",
       "1139        1139  Deep Nursing Home  Punjab  Barnala   \n",
       "\n",
       "                     LocalAddress  Pincode  \n",
       "1139  Collage Road Barnala-148101      NaN  "
      ]
     },
     "execution_count": 83,
     "metadata": {},
     "output_type": "execute_result"
    }
   ],
   "source": [
    "df[df.index==1139]"
   ]
  },
  {
   "cell_type": "code",
   "execution_count": 217,
   "id": "9abad0aa-09bd-429e-a447-b9f672293b1a",
   "metadata": {},
   "outputs": [
    {
     "name": "stdout",
     "output_type": "stream",
     "text": [
      "500001.0\n"
     ]
    }
   ],
   "source": [
    "median_value= data['Pincode'].median()\n",
    "print(median_value)"
   ]
  },
  {
   "cell_type": "code",
   "execution_count": 219,
   "id": "a0251953-518d-4e9d-91ff-7f0c84356f46",
   "metadata": {},
   "outputs": [
    {
     "data": {
      "text/html": [
       "<div>\n",
       "<style scoped>\n",
       "    .dataframe tbody tr th:only-of-type {\n",
       "        vertical-align: middle;\n",
       "    }\n",
       "\n",
       "    .dataframe tbody tr th {\n",
       "        vertical-align: top;\n",
       "    }\n",
       "\n",
       "    .dataframe thead th {\n",
       "        text-align: right;\n",
       "    }\n",
       "</style>\n",
       "<table border=\"1\" class=\"dataframe\">\n",
       "  <thead>\n",
       "    <tr style=\"text-align: right;\">\n",
       "      <th></th>\n",
       "      <th>Unnamed: 0</th>\n",
       "      <th>Hospital</th>\n",
       "      <th>State</th>\n",
       "      <th>City</th>\n",
       "      <th>LocalAddress</th>\n",
       "      <th>Pincode</th>\n",
       "    </tr>\n",
       "  </thead>\n",
       "  <tbody>\n",
       "    <tr>\n",
       "      <th>0</th>\n",
       "      <td>0</td>\n",
       "      <td>A A Hospital</td>\n",
       "      <td>Tamilnadu</td>\n",
       "      <td>Hosur</td>\n",
       "      <td>Denkani Kottai Road Mathigiri</td>\n",
       "      <td>635110.0</td>\n",
       "    </tr>\n",
       "    <tr>\n",
       "      <th>1</th>\n",
       "      <td>1</td>\n",
       "      <td>A C Hospital</td>\n",
       "      <td>Tamilnadu</td>\n",
       "      <td>Chennai</td>\n",
       "      <td>No-8, 3Rd Main Road, United India Nagar, Ayana...</td>\n",
       "      <td>600023.0</td>\n",
       "    </tr>\n",
       "    <tr>\n",
       "      <th>2</th>\n",
       "      <td>2</td>\n",
       "      <td>A-Care Orthopaedic &amp; General Hospital</td>\n",
       "      <td>Maharashtra</td>\n",
       "      <td>Mumbai</td>\n",
       "      <td>G-1, Giriraj Tower, Sai Baba Nagar, Mira Bhaya...</td>\n",
       "      <td>401107.0</td>\n",
       "    </tr>\n",
       "    <tr>\n",
       "      <th>3</th>\n",
       "      <td>3</td>\n",
       "      <td>A-One Hospital Pvt Ltd</td>\n",
       "      <td>Delhi</td>\n",
       "      <td>Delhi</td>\n",
       "      <td>A-1/7, Panchim Vihar, Rohtak Road, New Delhi-1...</td>\n",
       "      <td>110063.0</td>\n",
       "    </tr>\n",
       "    <tr>\n",
       "      <th>4</th>\n",
       "      <td>4</td>\n",
       "      <td>A.B.Eye Institute</td>\n",
       "      <td>Bihar</td>\n",
       "      <td>Patna</td>\n",
       "      <td>Road No.12, Rajendra Nagar, Patna, Bihar-800016</td>\n",
       "      <td>800016.0</td>\n",
       "    </tr>\n",
       "    <tr>\n",
       "      <th>...</th>\n",
       "      <td>...</td>\n",
       "      <td>...</td>\n",
       "      <td>...</td>\n",
       "      <td>...</td>\n",
       "      <td>...</td>\n",
       "      <td>...</td>\n",
       "    </tr>\n",
       "    <tr>\n",
       "      <th>1343</th>\n",
       "      <td>1343</td>\n",
       "      <td>Dr. Mahesh Rathod Hospital</td>\n",
       "      <td>Gujarat</td>\n",
       "      <td>Rajkot</td>\n",
       "      <td>1, Sardarnagar, Nr. Astran Chowk, Rajkot</td>\n",
       "      <td>360001.0</td>\n",
       "    </tr>\n",
       "    <tr>\n",
       "      <th>1344</th>\n",
       "      <td>1344</td>\n",
       "      <td>Dr. Malathi Manipal Hospital</td>\n",
       "      <td>Karnataka</td>\n",
       "      <td>Bangalore</td>\n",
       "      <td>45/1, 45Th Cross, 9Th Block, Jayanagar, Bangal...</td>\n",
       "      <td>560069.0</td>\n",
       "    </tr>\n",
       "    <tr>\n",
       "      <th>1345</th>\n",
       "      <td>1345</td>\n",
       "      <td>Dr. Manish Patankars Nath Hospital</td>\n",
       "      <td>Maharashtra</td>\n",
       "      <td>Mumbai</td>\n",
       "      <td>101, A-Wing, Golden Havens Apartments, Kolbad ...</td>\n",
       "      <td>400601.0</td>\n",
       "    </tr>\n",
       "    <tr>\n",
       "      <th>1346</th>\n",
       "      <td>1346</td>\n",
       "      <td>Dr. Manohara Sai Gowda Memorial Hospital</td>\n",
       "      <td>Karnataka</td>\n",
       "      <td>Mulbagal</td>\n",
       "      <td>Nh-4, Opposite Inspection Bungalow, Mulbagal</td>\n",
       "      <td>563131.0</td>\n",
       "    </tr>\n",
       "    <tr>\n",
       "      <th>1347</th>\n",
       "      <td>1347</td>\n",
       "      <td>Dr. Mehta'S Multispeciality Hospital Pvt Ltd.</td>\n",
       "      <td>Tamilnadu</td>\n",
       "      <td>Chennai</td>\n",
       "      <td>2 (E), Mc. Nicholas Road, Chennai, Opposite To...</td>\n",
       "      <td>600031.0</td>\n",
       "    </tr>\n",
       "  </tbody>\n",
       "</table>\n",
       "<p>1348 rows × 6 columns</p>\n",
       "</div>"
      ],
      "text/plain": [
       "      Unnamed: 0                                       Hospital        State  \\\n",
       "0              0                                   A A Hospital    Tamilnadu   \n",
       "1              1                                   A C Hospital    Tamilnadu   \n",
       "2              2          A-Care Orthopaedic & General Hospital  Maharashtra   \n",
       "3              3                         A-One Hospital Pvt Ltd        Delhi   \n",
       "4              4                              A.B.Eye Institute        Bihar   \n",
       "...          ...                                            ...          ...   \n",
       "1343        1343                     Dr. Mahesh Rathod Hospital      Gujarat   \n",
       "1344        1344                   Dr. Malathi Manipal Hospital    Karnataka   \n",
       "1345        1345             Dr. Manish Patankars Nath Hospital  Maharashtra   \n",
       "1346        1346       Dr. Manohara Sai Gowda Memorial Hospital    Karnataka   \n",
       "1347        1347  Dr. Mehta'S Multispeciality Hospital Pvt Ltd.    Tamilnadu   \n",
       "\n",
       "           City                                       LocalAddress   Pincode  \n",
       "0         Hosur                      Denkani Kottai Road Mathigiri  635110.0  \n",
       "1       Chennai  No-8, 3Rd Main Road, United India Nagar, Ayana...  600023.0  \n",
       "2        Mumbai  G-1, Giriraj Tower, Sai Baba Nagar, Mira Bhaya...  401107.0  \n",
       "3         Delhi  A-1/7, Panchim Vihar, Rohtak Road, New Delhi-1...  110063.0  \n",
       "4         Patna    Road No.12, Rajendra Nagar, Patna, Bihar-800016  800016.0  \n",
       "...         ...                                                ...       ...  \n",
       "1343     Rajkot           1, Sardarnagar, Nr. Astran Chowk, Rajkot  360001.0  \n",
       "1344  Bangalore  45/1, 45Th Cross, 9Th Block, Jayanagar, Bangal...  560069.0  \n",
       "1345     Mumbai  101, A-Wing, Golden Havens Apartments, Kolbad ...  400601.0  \n",
       "1346   Mulbagal       Nh-4, Opposite Inspection Bungalow, Mulbagal  563131.0  \n",
       "1347    Chennai  2 (E), Mc. Nicholas Road, Chennai, Opposite To...  600031.0  \n",
       "\n",
       "[1348 rows x 6 columns]"
      ]
     },
     "execution_count": 219,
     "metadata": {},
     "output_type": "execute_result"
    }
   ],
   "source": [
    "data.fillna(median_value)"
   ]
  },
  {
   "cell_type": "code",
   "execution_count": 85,
   "id": "21e4acf4-ccc1-48ea-a875-be6a220f1b45",
   "metadata": {},
   "outputs": [
    {
     "data": {
      "text/plain": [
       "(1348, 6)"
      ]
     },
     "execution_count": 85,
     "metadata": {},
     "output_type": "execute_result"
    }
   ],
   "source": [
    "data.shape"
   ]
  },
  {
   "cell_type": "markdown",
   "id": "d1e49327-cf83-44a8-9617-51f8d29a0f62",
   "metadata": {},
   "source": [
    "## Duplicate data\n",
    "- it removes all the duplicates in data\n",
    "- by this we can loss data"
   ]
  },
  {
   "cell_type": "code",
   "execution_count": 87,
   "id": "82c3a29a-8547-48c2-b278-2a9eb0c1712d",
   "metadata": {},
   "outputs": [
    {
     "name": "stdout",
     "output_type": "stream",
     "text": [
      "      Unnamed: 0                                       Hospital        State  \\\n",
      "0              0                                   A A Hospital    Tamilnadu   \n",
      "1              1                                   A C Hospital    Tamilnadu   \n",
      "2              2          A-Care Orthopaedic & General Hospital  Maharashtra   \n",
      "3              3                         A-One Hospital Pvt Ltd        Delhi   \n",
      "4              4                              A.B.Eye Institute        Bihar   \n",
      "...          ...                                            ...          ...   \n",
      "1343        1343                     Dr. Mahesh Rathod Hospital      Gujarat   \n",
      "1344        1344                   Dr. Malathi Manipal Hospital    Karnataka   \n",
      "1345        1345             Dr. Manish Patankars Nath Hospital  Maharashtra   \n",
      "1346        1346       Dr. Manohara Sai Gowda Memorial Hospital    Karnataka   \n",
      "1347        1347  Dr. Mehta'S Multispeciality Hospital Pvt Ltd.    Tamilnadu   \n",
      "\n",
      "           City                                       LocalAddress   Pincode  \n",
      "0         Hosur                      Denkani Kottai Road Mathigiri  635110.0  \n",
      "1       Chennai  No-8, 3Rd Main Road, United India Nagar, Ayana...  600023.0  \n",
      "2        Mumbai  G-1, Giriraj Tower, Sai Baba Nagar, Mira Bhaya...  401107.0  \n",
      "3         Delhi  A-1/7, Panchim Vihar, Rohtak Road, New Delhi-1...  110063.0  \n",
      "4         Patna    Road No.12, Rajendra Nagar, Patna, Bihar-800016  800016.0  \n",
      "...         ...                                                ...       ...  \n",
      "1343     Rajkot           1, Sardarnagar, Nr. Astran Chowk, Rajkot  360001.0  \n",
      "1344  Bangalore  45/1, 45Th Cross, 9Th Block, Jayanagar, Bangal...  560069.0  \n",
      "1345     Mumbai  101, A-Wing, Golden Havens Apartments, Kolbad ...  400601.0  \n",
      "1346   Mulbagal       Nh-4, Opposite Inspection Bungalow, Mulbagal  563131.0  \n",
      "1347    Chennai  2 (E), Mc. Nicholas Road, Chennai, Opposite To...  600031.0  \n",
      "\n",
      "[1348 rows x 6 columns]\n"
     ]
    }
   ],
   "source": [
    "c = data.drop_duplicates()\n",
    "print(c)"
   ]
  },
  {
   "cell_type": "code",
   "execution_count": 89,
   "id": "1f6e4986-efdc-4277-9f4a-dc3cf5deedad",
   "metadata": {},
   "outputs": [
    {
     "data": {
      "text/plain": [
       "(1348, 6)"
      ]
     },
     "execution_count": 89,
     "metadata": {},
     "output_type": "execute_result"
    }
   ],
   "source": [
    "c.shape\n"
   ]
  },
  {
   "cell_type": "markdown",
   "id": "c8904c35-5827-438e-80c5-1220e9d7b580",
   "metadata": {},
   "source": [
    "## Renaming the columnn name"
   ]
  },
  {
   "cell_type": "code",
   "execution_count": 91,
   "id": "ff63dc45-5067-441e-9c32-f0411cfa9cd3",
   "metadata": {},
   "outputs": [
    {
     "data": {
      "text/html": [
       "<div>\n",
       "<style scoped>\n",
       "    .dataframe tbody tr th:only-of-type {\n",
       "        vertical-align: middle;\n",
       "    }\n",
       "\n",
       "    .dataframe tbody tr th {\n",
       "        vertical-align: top;\n",
       "    }\n",
       "\n",
       "    .dataframe thead th {\n",
       "        text-align: right;\n",
       "    }\n",
       "</style>\n",
       "<table border=\"1\" class=\"dataframe\">\n",
       "  <thead>\n",
       "    <tr style=\"text-align: right;\">\n",
       "      <th></th>\n",
       "      <th>Unnamed: 0</th>\n",
       "      <th>Hospital</th>\n",
       "      <th>State</th>\n",
       "      <th>City</th>\n",
       "      <th>LocalAddress</th>\n",
       "      <th>pin num</th>\n",
       "    </tr>\n",
       "  </thead>\n",
       "  <tbody>\n",
       "    <tr>\n",
       "      <th>0</th>\n",
       "      <td>0</td>\n",
       "      <td>A A Hospital</td>\n",
       "      <td>Tamilnadu</td>\n",
       "      <td>Hosur</td>\n",
       "      <td>Denkani Kottai Road Mathigiri</td>\n",
       "      <td>635110.0</td>\n",
       "    </tr>\n",
       "    <tr>\n",
       "      <th>1</th>\n",
       "      <td>1</td>\n",
       "      <td>A C Hospital</td>\n",
       "      <td>Tamilnadu</td>\n",
       "      <td>Chennai</td>\n",
       "      <td>No-8, 3Rd Main Road, United India Nagar, Ayana...</td>\n",
       "      <td>600023.0</td>\n",
       "    </tr>\n",
       "    <tr>\n",
       "      <th>2</th>\n",
       "      <td>2</td>\n",
       "      <td>A-Care Orthopaedic &amp; General Hospital</td>\n",
       "      <td>Maharashtra</td>\n",
       "      <td>Mumbai</td>\n",
       "      <td>G-1, Giriraj Tower, Sai Baba Nagar, Mira Bhaya...</td>\n",
       "      <td>401107.0</td>\n",
       "    </tr>\n",
       "    <tr>\n",
       "      <th>3</th>\n",
       "      <td>3</td>\n",
       "      <td>A-One Hospital Pvt Ltd</td>\n",
       "      <td>Delhi</td>\n",
       "      <td>Delhi</td>\n",
       "      <td>A-1/7, Panchim Vihar, Rohtak Road, New Delhi-1...</td>\n",
       "      <td>110063.0</td>\n",
       "    </tr>\n",
       "    <tr>\n",
       "      <th>4</th>\n",
       "      <td>4</td>\n",
       "      <td>A.B.Eye Institute</td>\n",
       "      <td>Bihar</td>\n",
       "      <td>Patna</td>\n",
       "      <td>Road No.12, Rajendra Nagar, Patna, Bihar-800016</td>\n",
       "      <td>800016.0</td>\n",
       "    </tr>\n",
       "    <tr>\n",
       "      <th>...</th>\n",
       "      <td>...</td>\n",
       "      <td>...</td>\n",
       "      <td>...</td>\n",
       "      <td>...</td>\n",
       "      <td>...</td>\n",
       "      <td>...</td>\n",
       "    </tr>\n",
       "    <tr>\n",
       "      <th>1343</th>\n",
       "      <td>1343</td>\n",
       "      <td>Dr. Mahesh Rathod Hospital</td>\n",
       "      <td>Gujarat</td>\n",
       "      <td>Rajkot</td>\n",
       "      <td>1, Sardarnagar, Nr. Astran Chowk, Rajkot</td>\n",
       "      <td>360001.0</td>\n",
       "    </tr>\n",
       "    <tr>\n",
       "      <th>1344</th>\n",
       "      <td>1344</td>\n",
       "      <td>Dr. Malathi Manipal Hospital</td>\n",
       "      <td>Karnataka</td>\n",
       "      <td>Bangalore</td>\n",
       "      <td>45/1, 45Th Cross, 9Th Block, Jayanagar, Bangal...</td>\n",
       "      <td>560069.0</td>\n",
       "    </tr>\n",
       "    <tr>\n",
       "      <th>1345</th>\n",
       "      <td>1345</td>\n",
       "      <td>Dr. Manish Patankars Nath Hospital</td>\n",
       "      <td>Maharashtra</td>\n",
       "      <td>Mumbai</td>\n",
       "      <td>101, A-Wing, Golden Havens Apartments, Kolbad ...</td>\n",
       "      <td>400601.0</td>\n",
       "    </tr>\n",
       "    <tr>\n",
       "      <th>1346</th>\n",
       "      <td>1346</td>\n",
       "      <td>Dr. Manohara Sai Gowda Memorial Hospital</td>\n",
       "      <td>Karnataka</td>\n",
       "      <td>Mulbagal</td>\n",
       "      <td>Nh-4, Opposite Inspection Bungalow, Mulbagal</td>\n",
       "      <td>563131.0</td>\n",
       "    </tr>\n",
       "    <tr>\n",
       "      <th>1347</th>\n",
       "      <td>1347</td>\n",
       "      <td>Dr. Mehta'S Multispeciality Hospital Pvt Ltd.</td>\n",
       "      <td>Tamilnadu</td>\n",
       "      <td>Chennai</td>\n",
       "      <td>2 (E), Mc. Nicholas Road, Chennai, Opposite To...</td>\n",
       "      <td>600031.0</td>\n",
       "    </tr>\n",
       "  </tbody>\n",
       "</table>\n",
       "<p>1348 rows × 6 columns</p>\n",
       "</div>"
      ],
      "text/plain": [
       "      Unnamed: 0                                       Hospital        State  \\\n",
       "0              0                                   A A Hospital    Tamilnadu   \n",
       "1              1                                   A C Hospital    Tamilnadu   \n",
       "2              2          A-Care Orthopaedic & General Hospital  Maharashtra   \n",
       "3              3                         A-One Hospital Pvt Ltd        Delhi   \n",
       "4              4                              A.B.Eye Institute        Bihar   \n",
       "...          ...                                            ...          ...   \n",
       "1343        1343                     Dr. Mahesh Rathod Hospital      Gujarat   \n",
       "1344        1344                   Dr. Malathi Manipal Hospital    Karnataka   \n",
       "1345        1345             Dr. Manish Patankars Nath Hospital  Maharashtra   \n",
       "1346        1346       Dr. Manohara Sai Gowda Memorial Hospital    Karnataka   \n",
       "1347        1347  Dr. Mehta'S Multispeciality Hospital Pvt Ltd.    Tamilnadu   \n",
       "\n",
       "           City                                       LocalAddress   pin num  \n",
       "0         Hosur                      Denkani Kottai Road Mathigiri  635110.0  \n",
       "1       Chennai  No-8, 3Rd Main Road, United India Nagar, Ayana...  600023.0  \n",
       "2        Mumbai  G-1, Giriraj Tower, Sai Baba Nagar, Mira Bhaya...  401107.0  \n",
       "3         Delhi  A-1/7, Panchim Vihar, Rohtak Road, New Delhi-1...  110063.0  \n",
       "4         Patna    Road No.12, Rajendra Nagar, Patna, Bihar-800016  800016.0  \n",
       "...         ...                                                ...       ...  \n",
       "1343     Rajkot           1, Sardarnagar, Nr. Astran Chowk, Rajkot  360001.0  \n",
       "1344  Bangalore  45/1, 45Th Cross, 9Th Block, Jayanagar, Bangal...  560069.0  \n",
       "1345     Mumbai  101, A-Wing, Golden Havens Apartments, Kolbad ...  400601.0  \n",
       "1346   Mulbagal       Nh-4, Opposite Inspection Bungalow, Mulbagal  563131.0  \n",
       "1347    Chennai  2 (E), Mc. Nicholas Road, Chennai, Opposite To...  600031.0  \n",
       "\n",
       "[1348 rows x 6 columns]"
      ]
     },
     "execution_count": 91,
     "metadata": {},
     "output_type": "execute_result"
    }
   ],
   "source": [
    "data.rename(columns={'Pincode':'pin num'})"
   ]
  },
  {
   "cell_type": "markdown",
   "id": "a74eda26-e070-4286-be96-727229db4cd5",
   "metadata": {},
   "source": [
    "### Data Analysis in pandas"
   ]
  },
  {
   "cell_type": "code",
   "execution_count": 93,
   "id": "022994e4-63a6-4c67-822c-1c718065701e",
   "metadata": {},
   "outputs": [
    {
     "data": {
      "text/plain": [
       "<bound method DataFrame.mean of       Unnamed: 0                                       Hospital        State  \\\n",
       "0              0                                   A A Hospital    Tamilnadu   \n",
       "1              1                                   A C Hospital    Tamilnadu   \n",
       "2              2          A-Care Orthopaedic & General Hospital  Maharashtra   \n",
       "3              3                         A-One Hospital Pvt Ltd        Delhi   \n",
       "4              4                              A.B.Eye Institute        Bihar   \n",
       "...          ...                                            ...          ...   \n",
       "1343        1343                     Dr. Mahesh Rathod Hospital      Gujarat   \n",
       "1344        1344                   Dr. Malathi Manipal Hospital    Karnataka   \n",
       "1345        1345             Dr. Manish Patankars Nath Hospital  Maharashtra   \n",
       "1346        1346       Dr. Manohara Sai Gowda Memorial Hospital    Karnataka   \n",
       "1347        1347  Dr. Mehta'S Multispeciality Hospital Pvt Ltd.    Tamilnadu   \n",
       "\n",
       "           City                                       LocalAddress   Pincode  \n",
       "0         Hosur                      Denkani Kottai Road Mathigiri  635110.0  \n",
       "1       Chennai  No-8, 3Rd Main Road, United India Nagar, Ayana...  600023.0  \n",
       "2        Mumbai  G-1, Giriraj Tower, Sai Baba Nagar, Mira Bhaya...  401107.0  \n",
       "3         Delhi  A-1/7, Panchim Vihar, Rohtak Road, New Delhi-1...  110063.0  \n",
       "4         Patna    Road No.12, Rajendra Nagar, Patna, Bihar-800016  800016.0  \n",
       "...         ...                                                ...       ...  \n",
       "1343     Rajkot           1, Sardarnagar, Nr. Astran Chowk, Rajkot  360001.0  \n",
       "1344  Bangalore  45/1, 45Th Cross, 9Th Block, Jayanagar, Bangal...  560069.0  \n",
       "1345     Mumbai  101, A-Wing, Golden Havens Apartments, Kolbad ...  400601.0  \n",
       "1346   Mulbagal       Nh-4, Opposite Inspection Bungalow, Mulbagal  563131.0  \n",
       "1347    Chennai  2 (E), Mc. Nicholas Road, Chennai, Opposite To...  600031.0  \n",
       "\n",
       "[1348 rows x 6 columns]>"
      ]
     },
     "execution_count": 93,
     "metadata": {},
     "output_type": "execute_result"
    }
   ],
   "source": [
    "data.mean"
   ]
  },
  {
   "cell_type": "code",
   "execution_count": 95,
   "id": "813bc7a4-8997-4691-8e68-0ab15820048f",
   "metadata": {},
   "outputs": [
    {
     "data": {
      "text/html": [
       "<div>\n",
       "<style scoped>\n",
       "    .dataframe tbody tr th:only-of-type {\n",
       "        vertical-align: middle;\n",
       "    }\n",
       "\n",
       "    .dataframe tbody tr th {\n",
       "        vertical-align: top;\n",
       "    }\n",
       "\n",
       "    .dataframe thead th {\n",
       "        text-align: right;\n",
       "    }\n",
       "</style>\n",
       "<table border=\"1\" class=\"dataframe\">\n",
       "  <thead>\n",
       "    <tr style=\"text-align: right;\">\n",
       "      <th></th>\n",
       "      <th>Unnamed: 0</th>\n",
       "      <th>Hospital</th>\n",
       "      <th>State</th>\n",
       "      <th>City</th>\n",
       "      <th>LocalAddress</th>\n",
       "      <th>Pincode</th>\n",
       "    </tr>\n",
       "  </thead>\n",
       "  <tbody>\n",
       "    <tr>\n",
       "      <th>0</th>\n",
       "      <td>0</td>\n",
       "      <td>Balaji Hospital</td>\n",
       "      <td>Maharashtra</td>\n",
       "      <td>Mumbai</td>\n",
       "      <td>Dargamitta,Nellore</td>\n",
       "      <td>143001.0</td>\n",
       "    </tr>\n",
       "    <tr>\n",
       "      <th>1</th>\n",
       "      <td>1</td>\n",
       "      <td>NaN</td>\n",
       "      <td>NaN</td>\n",
       "      <td>NaN</td>\n",
       "      <td>Indapur Road</td>\n",
       "      <td>NaN</td>\n",
       "    </tr>\n",
       "    <tr>\n",
       "      <th>2</th>\n",
       "      <td>2</td>\n",
       "      <td>NaN</td>\n",
       "      <td>NaN</td>\n",
       "      <td>NaN</td>\n",
       "      <td>NaN</td>\n",
       "      <td>NaN</td>\n",
       "    </tr>\n",
       "    <tr>\n",
       "      <th>3</th>\n",
       "      <td>3</td>\n",
       "      <td>NaN</td>\n",
       "      <td>NaN</td>\n",
       "      <td>NaN</td>\n",
       "      <td>NaN</td>\n",
       "      <td>NaN</td>\n",
       "    </tr>\n",
       "    <tr>\n",
       "      <th>4</th>\n",
       "      <td>4</td>\n",
       "      <td>NaN</td>\n",
       "      <td>NaN</td>\n",
       "      <td>NaN</td>\n",
       "      <td>NaN</td>\n",
       "      <td>NaN</td>\n",
       "    </tr>\n",
       "    <tr>\n",
       "      <th>...</th>\n",
       "      <td>...</td>\n",
       "      <td>...</td>\n",
       "      <td>...</td>\n",
       "      <td>...</td>\n",
       "      <td>...</td>\n",
       "      <td>...</td>\n",
       "    </tr>\n",
       "    <tr>\n",
       "      <th>1343</th>\n",
       "      <td>1343</td>\n",
       "      <td>NaN</td>\n",
       "      <td>NaN</td>\n",
       "      <td>NaN</td>\n",
       "      <td>NaN</td>\n",
       "      <td>NaN</td>\n",
       "    </tr>\n",
       "    <tr>\n",
       "      <th>1344</th>\n",
       "      <td>1344</td>\n",
       "      <td>NaN</td>\n",
       "      <td>NaN</td>\n",
       "      <td>NaN</td>\n",
       "      <td>NaN</td>\n",
       "      <td>NaN</td>\n",
       "    </tr>\n",
       "    <tr>\n",
       "      <th>1345</th>\n",
       "      <td>1345</td>\n",
       "      <td>NaN</td>\n",
       "      <td>NaN</td>\n",
       "      <td>NaN</td>\n",
       "      <td>NaN</td>\n",
       "      <td>NaN</td>\n",
       "    </tr>\n",
       "    <tr>\n",
       "      <th>1346</th>\n",
       "      <td>1346</td>\n",
       "      <td>NaN</td>\n",
       "      <td>NaN</td>\n",
       "      <td>NaN</td>\n",
       "      <td>NaN</td>\n",
       "      <td>NaN</td>\n",
       "    </tr>\n",
       "    <tr>\n",
       "      <th>1347</th>\n",
       "      <td>1347</td>\n",
       "      <td>NaN</td>\n",
       "      <td>NaN</td>\n",
       "      <td>NaN</td>\n",
       "      <td>NaN</td>\n",
       "      <td>NaN</td>\n",
       "    </tr>\n",
       "  </tbody>\n",
       "</table>\n",
       "<p>1348 rows × 6 columns</p>\n",
       "</div>"
      ],
      "text/plain": [
       "      Unnamed: 0         Hospital        State    City        LocalAddress  \\\n",
       "0              0  Balaji Hospital  Maharashtra  Mumbai  Dargamitta,Nellore   \n",
       "1              1              NaN          NaN     NaN        Indapur Road   \n",
       "2              2              NaN          NaN     NaN                 NaN   \n",
       "3              3              NaN          NaN     NaN                 NaN   \n",
       "4              4              NaN          NaN     NaN                 NaN   \n",
       "...          ...              ...          ...     ...                 ...   \n",
       "1343        1343              NaN          NaN     NaN                 NaN   \n",
       "1344        1344              NaN          NaN     NaN                 NaN   \n",
       "1345        1345              NaN          NaN     NaN                 NaN   \n",
       "1346        1346              NaN          NaN     NaN                 NaN   \n",
       "1347        1347              NaN          NaN     NaN                 NaN   \n",
       "\n",
       "       Pincode  \n",
       "0     143001.0  \n",
       "1          NaN  \n",
       "2          NaN  \n",
       "3          NaN  \n",
       "4          NaN  \n",
       "...        ...  \n",
       "1343       NaN  \n",
       "1344       NaN  \n",
       "1345       NaN  \n",
       "1346       NaN  \n",
       "1347       NaN  \n",
       "\n",
       "[1348 rows x 6 columns]"
      ]
     },
     "execution_count": 95,
     "metadata": {},
     "output_type": "execute_result"
    }
   ],
   "source": [
    "data.mode()"
   ]
  },
  {
   "cell_type": "code",
   "execution_count": 361,
   "id": "c25a35da-185c-433d-b5bd-286ffd98fc06",
   "metadata": {},
   "outputs": [
    {
     "data": {
      "text/plain": [
       "<bound method DataFrame.median of       Unnamed: 0                                       Hospital        State  \\\n",
       "0              0                                   A A Hospital    Tamilnadu   \n",
       "1              1                                   A C Hospital    Tamilnadu   \n",
       "2              2          A-Care Orthopaedic & General Hospital  Maharashtra   \n",
       "3              3                         A-One Hospital Pvt Ltd        Delhi   \n",
       "4              4                              A.B.Eye Institute        Bihar   \n",
       "...          ...                                            ...          ...   \n",
       "1343        1343                     Dr. Mahesh Rathod Hospital      Gujarat   \n",
       "1344        1344                   Dr. Malathi Manipal Hospital    Karnataka   \n",
       "1345        1345             Dr. Manish Patankars Nath Hospital  Maharashtra   \n",
       "1346        1346       Dr. Manohara Sai Gowda Memorial Hospital    Karnataka   \n",
       "1347        1347  Dr. Mehta'S Multispeciality Hospital Pvt Ltd.    Tamilnadu   \n",
       "\n",
       "           City                                       LocalAddress   Pincode  \n",
       "0         Hosur                      Denkani Kottai Road Mathigiri  635110.0  \n",
       "1       Chennai  No-8, 3Rd Main Road, United India Nagar, Ayana...  600023.0  \n",
       "2        Mumbai  G-1, Giriraj Tower, Sai Baba Nagar, Mira Bhaya...  401107.0  \n",
       "3         Delhi  A-1/7, Panchim Vihar, Rohtak Road, New Delhi-1...  110063.0  \n",
       "4         Patna    Road No.12, Rajendra Nagar, Patna, Bihar-800016  800016.0  \n",
       "...         ...                                                ...       ...  \n",
       "1343     Rajkot           1, Sardarnagar, Nr. Astran Chowk, Rajkot  360001.0  \n",
       "1344  Bangalore  45/1, 45Th Cross, 9Th Block, Jayanagar, Bangal...  560069.0  \n",
       "1345     Mumbai  101, A-Wing, Golden Havens Apartments, Kolbad ...  400601.0  \n",
       "1346   Mulbagal       Nh-4, Opposite Inspection Bungalow, Mulbagal  563131.0  \n",
       "1347    Chennai  2 (E), Mc. Nicholas Road, Chennai, Opposite To...  600031.0  \n",
       "\n",
       "[1348 rows x 6 columns]>"
      ]
     },
     "execution_count": 361,
     "metadata": {},
     "output_type": "execute_result"
    }
   ],
   "source": [
    "data.median"
   ]
  },
  {
   "cell_type": "code",
   "execution_count": 124,
   "id": "aeec87af-f13c-4925-9099-d04d3cb0e52e",
   "metadata": {},
   "outputs": [
    {
     "data": {
      "text/plain": [
       "Pincode\n",
       "143001.0    9\n",
       "122001.0    8\n",
       "572102.0    8\n",
       "522001.0    8\n",
       "380007.0    7\n",
       "           ..\n",
       "500062.0    1\n",
       "400101.0    1\n",
       "441001.0    1\n",
       "424101.0    1\n",
       "600031.0    1\n",
       "Name: count, Length: 843, dtype: int64"
      ]
     },
     "execution_count": 124,
     "metadata": {},
     "output_type": "execute_result"
    }
   ],
   "source": [
    "#value_counts() is used to represent repited numbers in columns\n",
    "data['Pincode'].value_counts()"
   ]
  },
  {
   "cell_type": "markdown",
   "id": "9926f73b-1d89-4f6f-a18c-73d18b26bdc1",
   "metadata": {},
   "source": [
    "###  Aggregating data with .groupby()"
   ]
  },
  {
   "cell_type": "markdown",
   "id": "5af5f000-d4e9-44ee-bef2-0388df356d01",
   "metadata": {},
   "source": [
    "- Aggregtaing means sum or Average"
   ]
  },
  {
   "cell_type": "markdown",
   "id": "b0f83679-1e51-4d30-9a02-5c33c4c9bca9",
   "metadata": {},
   "source": [
    "data.groupby(\"Pincode\").median().head(10)\n"
   ]
  },
  {
   "cell_type": "code",
   "execution_count": null,
   "id": "188f66ae-91a6-4cfc-a231-f85577baf063",
   "metadata": {},
   "outputs": [],
   "source": []
  },
  {
   "cell_type": "code",
   "execution_count": null,
   "id": "f01f3e79-8bda-4124-872e-97240c0aeec0",
   "metadata": {},
   "outputs": [],
   "source": []
  }
 ],
 "metadata": {
  "kernelspec": {
   "display_name": "Python 3 (ipykernel)",
   "language": "python",
   "name": "python3"
  },
  "language_info": {
   "codemirror_mode": {
    "name": "ipython",
    "version": 3
   },
   "file_extension": ".py",
   "mimetype": "text/x-python",
   "name": "python",
   "nbconvert_exporter": "python",
   "pygments_lexer": "ipython3",
   "version": "3.12.4"
  }
 },
 "nbformat": 4,
 "nbformat_minor": 5
}
